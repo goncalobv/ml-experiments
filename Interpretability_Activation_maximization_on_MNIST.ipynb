{
  "nbformat": 4,
  "nbformat_minor": 0,
  "metadata": {
    "colab": {
      "name": "Interpretability: Activation maximization on MNIST.ipynb",
      "provenance": [],
      "collapsed_sections": [],
      "toc_visible": true,
      "include_colab_link": true
    },
    "kernelspec": {
      "name": "python3",
      "display_name": "Python 3"
    },
    "accelerator": "GPU"
  },
  "cells": [
    {
      "cell_type": "markdown",
      "metadata": {
        "id": "view-in-github",
        "colab_type": "text"
      },
      "source": [
        "<a href=\"https://colab.research.google.com/github/goncalobv/ml-experiments/blob/main/Interpretability_Activation_maximization_on_MNIST.ipynb\" target=\"_parent\"><img src=\"https://colab.research.google.com/assets/colab-badge.svg\" alt=\"Open In Colab\"/></a>"
      ]
    },
    {
      "cell_type": "code",
      "metadata": {
        "id": "gKA_J7bdP33T"
      },
      "source": [
        "# The experiments below might reuse some code from the MIT course on Introduction to Deep Learning, released uder the MIT license:\n",
        "\n",
        "# Copyright 2021 MIT 6.S191 Introduction to Deep Learning. All Rights Reserved.\n",
        "# \n",
        "# Licensed under the MIT License. You may not use this file except in compliance\n",
        "# with the License. Use and/or modification of this code outside of 6.S191 must\n",
        "# reference:\n",
        "#\n",
        "# © MIT 6.S191: Introduction to Deep Learning\n",
        "# http://introtodeeplearning.com\n",
        "#"
      ],
      "execution_count": null,
      "outputs": []
    },
    {
      "cell_type": "markdown",
      "metadata": {
        "id": "Cm1XpLftPi4A"
      },
      "source": [
        "# Activation maximization on MNIST dataset\n",
        "In this notebook, we modify code from one of the labs in [Intro to Deep Learning](http://introtodeeplearning.com/) to apply Activation Maximization (AM) from tf-keras-vis.\n",
        "\n",
        "We follow a similar approach as shown in the [Machine Curve blog](https://www.machinecurve.com/index.php/2019/11/18/visualizing-keras-model-inputs-with-activation-maximization/) and the\n",
        "[tf-keras-vis dense layer](https://github.com/keisen/tf-keras-vis/blob/ddd951396f16e7f5b7a0e8619f43f99c599628fb/examples/visualize_dense_layer.ipynb) example.\n",
        "\n",
        "Note that AM generates an input image that maximizes the output class. The activation images represent what the network learnt, which might not match closely the input images.\n",
        "\n",
        "After generating the activation images, we confirm that these indeed maximize activation of the output neurons."
      ]
    },
    {
      "cell_type": "code",
      "metadata": {
        "id": "RsGqx_ai_N8F",
        "colab": {
          "base_uri": "https://localhost:8080/"
        },
        "outputId": "1f8b2700-456d-4dab-a980-4e19dde5d85f"
      },
      "source": [
        "# Import Tensorflow 2.0\n",
        "%tensorflow_version 2.x\n",
        "import tensorflow as tf \n",
        "\n",
        "!pip install mitdeeplearning\n",
        "!pip install tf-keras-vis\n",
        "\n",
        "\n",
        "import matplotlib.pyplot as plt\n",
        "import numpy as np\n",
        "import random\n",
        "from tqdm import tqdm\n",
        "\n",
        "# Check that we are using a GPU, if not switch runtimes\n",
        "#   using Runtime > Change Runtime Type > GPU\n",
        "assert len(tf.config.list_physical_devices('GPU')) > 0"
      ],
      "execution_count": null,
      "outputs": [
        {
          "output_type": "stream",
          "text": [
            "Requirement already satisfied: mitdeeplearning in /usr/local/lib/python3.7/dist-packages (0.2.0)\n",
            "Requirement already satisfied: tqdm in /usr/local/lib/python3.7/dist-packages (from mitdeeplearning) (4.41.1)\n",
            "Requirement already satisfied: numpy in /usr/local/lib/python3.7/dist-packages (from mitdeeplearning) (1.19.5)\n",
            "Requirement already satisfied: regex in /usr/local/lib/python3.7/dist-packages (from mitdeeplearning) (2019.12.20)\n",
            "Requirement already satisfied: gym in /usr/local/lib/python3.7/dist-packages (from mitdeeplearning) (0.17.3)\n",
            "Requirement already satisfied: pyglet<=1.5.0,>=1.4.0 in /usr/local/lib/python3.7/dist-packages (from gym->mitdeeplearning) (1.5.0)\n",
            "Requirement already satisfied: scipy in /usr/local/lib/python3.7/dist-packages (from gym->mitdeeplearning) (1.4.1)\n",
            "Requirement already satisfied: cloudpickle<1.7.0,>=1.2.0 in /usr/local/lib/python3.7/dist-packages (from gym->mitdeeplearning) (1.3.0)\n",
            "Requirement already satisfied: future in /usr/local/lib/python3.7/dist-packages (from pyglet<=1.5.0,>=1.4.0->gym->mitdeeplearning) (0.16.0)\n",
            "Requirement already satisfied: tf-keras-vis in /usr/local/lib/python3.7/dist-packages (0.5.5)\n",
            "Requirement already satisfied: scipy in /usr/local/lib/python3.7/dist-packages (from tf-keras-vis) (1.4.1)\n",
            "Requirement already satisfied: numpy in /usr/local/lib/python3.7/dist-packages (from tf-keras-vis) (1.19.5)\n",
            "Requirement already satisfied: pillow in /usr/local/lib/python3.7/dist-packages (from tf-keras-vis) (7.0.0)\n",
            "Requirement already satisfied: imageio in /usr/local/lib/python3.7/dist-packages (from tf-keras-vis) (2.4.1)\n"
          ],
          "name": "stdout"
        }
      ]
    },
    {
      "cell_type": "code",
      "metadata": {
        "id": "p2dQsHI3_N8K"
      },
      "source": [
        "mnist = tf.keras.datasets.mnist\n",
        "(train_images, train_labels), (test_images, test_labels) = mnist.load_data()\n",
        "train_images = (np.expand_dims(train_images, axis=-1)/255.).astype(np.float32)\n",
        "train_labels = (train_labels).astype(np.float32)\n",
        "test_images = (np.expand_dims(test_images, axis=-1)/255.).astype(np.float32)\n",
        "test_labels = (test_labels).astype(np.float32)\n",
        "\n",
        "nr_classes = 10\n",
        "\n",
        "train_labels_cat = tf.keras.utils.to_categorical(train_labels, nr_classes)\n",
        "test_labels_cat = tf.keras.utils.to_categorical(test_labels, nr_classes)"
      ],
      "execution_count": null,
      "outputs": []
    },
    {
      "cell_type": "code",
      "metadata": {
        "id": "0GmapoCwA2Fx"
      },
      "source": [
        "from tf_keras_vis.activation_maximization import ActivationMaximization\n",
        "from tf_keras_vis.utils.callbacks import Print\n",
        "from tf_keras_vis.utils.input_modifiers import Jitter, Rotate\n",
        "from tf_keras_vis.utils.regularizers import L2Norm, TotalVariation\n",
        "from tf_keras_vis.utils.callbacks import OptimizerCallback\n",
        "\n",
        "class print_activations(OptimizerCallback):  \n",
        "  def __init__(self, interval):\n",
        "    self.interval = interval\n",
        "    \n",
        "  def __call__(self, i, values, grads, losses, model_outpus, **kwargs):\n",
        "    if (i+1) % self.interval == 0:\n",
        "      print('Iteration ', i+1)\n",
        "      printActivationImages(activations=values)\n",
        "\n",
        "def AM_MNIST(model, output_indexes, steps=1000, learning_rate=.01, jitter=.02, rotate=1., tv=.01, l2norm=.02, rho=.95):\n",
        "  def loss(output):\n",
        "    #print(output)\n",
        "    # For seed input i, maximize prediction of class output j\n",
        "    return [output[i, j] for (i,j) in enumerate(output_indexes)]\n",
        "\n",
        "  def model_modifier(m):\n",
        "      m.layers[-1].activation = tf.keras.activations.linear\n",
        "\n",
        "  # Initialize Activation Maximization\n",
        "  visualize_activation = ActivationMaximization(model, model_modifier)\n",
        "\n",
        "  # Generate a random seed for each activation\n",
        "  seed_input = tf.random.uniform((len(output_indexes), 28, 28, 1), 0, 1)\n",
        "\n",
        "  # Generate activations and convert into images\n",
        "  activations = visualize_activation(loss,\n",
        "                                     seed_input=seed_input, \n",
        "                                     input_range=(0,1.),\n",
        "                                     input_modifiers=[Jitter(jitter), Rotate(rotate)], #\n",
        "                                     regularizers=[TotalVariation(tv), L2Norm(l2norm)], #\n",
        "                                     steps=steps, \n",
        "                                     optimizer=tf.optimizers.RMSprop(learning_rate, rho),\n",
        "                                     callbacks=[Print(interval=50)], # print_activations(interval=50)\n",
        "                                     )\n",
        "\n",
        "  return activations\n",
        "\n",
        "\n",
        "def printActivationImages(activations):\n",
        "  if len(activations) == 1:\n",
        "    activations = activations[0]\n",
        "  images = [activation.astype(np.float32) for activation in activations]\n",
        "\n",
        "  # Visualize each image\n",
        "  #f, ax = plt.subplots(1, len(images))\n",
        "  for i in range(0, len(images)):\n",
        "    plt.imshow(images[i].reshape(28,28))\n",
        "    plt.title(f'MNIST target = {i}')\n",
        "    plt.show()\n"
      ],
      "execution_count": null,
      "outputs": []
    },
    {
      "cell_type": "markdown",
      "metadata": {
        "id": "baIw9bDf8v6Z"
      },
      "source": [
        "## Training 3 neural networks on MNIST\n",
        "We propose 3 neural networks to train on the MNIST dataset:\n",
        "\n",
        "(i) Simple dense fully connected network with a single hidden layer\n",
        "\n",
        "(ii) Simple Convolutional Neural Network (CNN) with 1 convolution layer + 1 hidden fully connected layer\n",
        "\n",
        "(iii) CNN with 2 convolution layers + 1 hidden fully connected layer"
      ]
    },
    {
      "cell_type": "code",
      "metadata": {
        "id": "vec9qcJs-9W5",
        "colab": {
          "base_uri": "https://localhost:8080/"
        },
        "collapsed": true,
        "outputId": "0ecc5cc7-3c1f-492d-8c71-ebb268030961"
      },
      "source": [
        "# Define a very simple fully connected model\n",
        "def build_fc_model():\n",
        "    model = tf.keras.Sequential([\n",
        "        tf.keras.layers.Flatten(),\n",
        "        tf.keras.layers.Dense(128, activation=tf.nn.relu),\n",
        "        tf.keras.layers.Dense(10, activation='softmax')\n",
        "    ])\n",
        "    return model\n",
        "\n",
        "# CNN as presented in the Intro to Deep Learning lab\n",
        "def build_cnn_model():\n",
        "    cnn_model = tf.keras.Sequential([\n",
        "        tf.keras.layers.Conv2D(filters=24, kernel_size=3, activation='relu'), \n",
        "        tf.keras.layers.MaxPool2D(pool_size=2),\n",
        "        tf.keras.layers.Conv2D(filters=36, kernel_size=3, activation='relu'),\n",
        "        tf.keras.layers.MaxPool2D(pool_size=2),\n",
        "        tf.keras.layers.Flatten(),\n",
        "        tf.keras.layers.Dense(128, activation=tf.nn.relu),\n",
        "        tf.keras.layers.Dense(10, activation='softmax')\n",
        "    ])\n",
        "    \n",
        "    return cnn_model\n",
        "# Simpler CNN matching https://github.com/keisen/tf-keras-vis/blob/master/examples/visualize_dense_layer.ipynb\n",
        "def build_simple_cnn_model():\n",
        "    cnn_model = tf.keras.Sequential([\n",
        "        tf.keras.layers.Conv2D(filters=32, kernel_size=3, activation='relu'), \n",
        "        tf.keras.layers.MaxPooling2D(pool_size=2),\n",
        "        tf.keras.layers.Dropout(0.25),\n",
        "        tf.keras.layers.Flatten(),\n",
        "        tf.keras.layers.Dense(256, activation='relu'),\n",
        "        tf.keras.layers.Dense(10, activation='softmax')\n",
        "    ])\n",
        "    \n",
        "    return cnn_model\n",
        "\n",
        "  \n",
        "model = build_fc_model()\n",
        "model.compile(optimizer=tf.keras.optimizers.Adam(), loss='categorical_crossentropy', metrics=['accuracy']) # TODO\n",
        "\n",
        "model.fit(train_images, train_labels_cat, batch_size=128, epochs=25, validation_split = 0.2, verbose=1)\n",
        "\n",
        "test_loss, test_acc = model.evaluate(test_images, test_labels_cat)\n",
        "\n",
        "print('Test accuracy:', test_acc)"
      ],
      "execution_count": null,
      "outputs": [
        {
          "output_type": "stream",
          "text": [
            "Epoch 1/25\n",
            "375/375 [==============================] - 2s 4ms/step - loss: 0.6741 - accuracy: 0.8152 - val_loss: 0.2060 - val_accuracy: 0.9438\n",
            "Epoch 2/25\n",
            "375/375 [==============================] - 1s 3ms/step - loss: 0.1893 - accuracy: 0.9448 - val_loss: 0.1575 - val_accuracy: 0.9557\n",
            "Epoch 3/25\n",
            "375/375 [==============================] - 1s 3ms/step - loss: 0.1371 - accuracy: 0.9610 - val_loss: 0.1314 - val_accuracy: 0.9613\n",
            "Epoch 4/25\n",
            "375/375 [==============================] - 1s 3ms/step - loss: 0.1069 - accuracy: 0.9698 - val_loss: 0.1130 - val_accuracy: 0.9675\n",
            "Epoch 5/25\n",
            "375/375 [==============================] - 1s 4ms/step - loss: 0.0823 - accuracy: 0.9762 - val_loss: 0.1065 - val_accuracy: 0.9687\n",
            "Epoch 6/25\n",
            "375/375 [==============================] - 1s 4ms/step - loss: 0.0665 - accuracy: 0.9825 - val_loss: 0.0971 - val_accuracy: 0.9706\n",
            "Epoch 7/25\n",
            "375/375 [==============================] - 1s 3ms/step - loss: 0.0580 - accuracy: 0.9840 - val_loss: 0.0952 - val_accuracy: 0.9713\n",
            "Epoch 8/25\n",
            "375/375 [==============================] - 1s 3ms/step - loss: 0.0488 - accuracy: 0.9870 - val_loss: 0.0910 - val_accuracy: 0.9732\n",
            "Epoch 9/25\n",
            "375/375 [==============================] - 1s 3ms/step - loss: 0.0393 - accuracy: 0.9900 - val_loss: 0.0874 - val_accuracy: 0.9734\n",
            "Epoch 10/25\n",
            "375/375 [==============================] - 1s 3ms/step - loss: 0.0338 - accuracy: 0.9910 - val_loss: 0.0845 - val_accuracy: 0.9743\n",
            "Epoch 11/25\n",
            "375/375 [==============================] - 1s 3ms/step - loss: 0.0304 - accuracy: 0.9922 - val_loss: 0.0877 - val_accuracy: 0.9735\n",
            "Epoch 12/25\n",
            "375/375 [==============================] - 1s 3ms/step - loss: 0.0263 - accuracy: 0.9932 - val_loss: 0.0846 - val_accuracy: 0.9747\n",
            "Epoch 13/25\n",
            "375/375 [==============================] - 1s 4ms/step - loss: 0.0222 - accuracy: 0.9952 - val_loss: 0.0893 - val_accuracy: 0.9743\n",
            "Epoch 14/25\n",
            "375/375 [==============================] - 1s 4ms/step - loss: 0.0179 - accuracy: 0.9960 - val_loss: 0.0846 - val_accuracy: 0.9758\n",
            "Epoch 15/25\n",
            "375/375 [==============================] - 1s 3ms/step - loss: 0.0155 - accuracy: 0.9968 - val_loss: 0.0849 - val_accuracy: 0.9749\n",
            "Epoch 16/25\n",
            "375/375 [==============================] - 1s 3ms/step - loss: 0.0127 - accuracy: 0.9977 - val_loss: 0.0884 - val_accuracy: 0.9748\n",
            "Epoch 17/25\n",
            "375/375 [==============================] - 1s 3ms/step - loss: 0.0109 - accuracy: 0.9983 - val_loss: 0.0860 - val_accuracy: 0.9759\n",
            "Epoch 18/25\n",
            "375/375 [==============================] - 1s 3ms/step - loss: 0.0098 - accuracy: 0.9982 - val_loss: 0.0897 - val_accuracy: 0.9754\n",
            "Epoch 19/25\n",
            "375/375 [==============================] - 1s 3ms/step - loss: 0.0089 - accuracy: 0.9988 - val_loss: 0.0886 - val_accuracy: 0.9756\n",
            "Epoch 20/25\n",
            "375/375 [==============================] - 1s 4ms/step - loss: 0.0071 - accuracy: 0.9991 - val_loss: 0.0933 - val_accuracy: 0.9757\n",
            "Epoch 21/25\n",
            "375/375 [==============================] - 1s 4ms/step - loss: 0.0061 - accuracy: 0.9994 - val_loss: 0.0902 - val_accuracy: 0.9767\n",
            "Epoch 22/25\n",
            "375/375 [==============================] - 1s 4ms/step - loss: 0.0060 - accuracy: 0.9991 - val_loss: 0.0930 - val_accuracy: 0.9766\n",
            "Epoch 23/25\n",
            "375/375 [==============================] - 1s 4ms/step - loss: 0.0041 - accuracy: 0.9996 - val_loss: 0.0917 - val_accuracy: 0.9762\n",
            "Epoch 24/25\n",
            "375/375 [==============================] - 1s 4ms/step - loss: 0.0034 - accuracy: 0.9998 - val_loss: 0.0942 - val_accuracy: 0.9762\n",
            "Epoch 25/25\n",
            "375/375 [==============================] - 1s 3ms/step - loss: 0.0030 - accuracy: 0.9998 - val_loss: 0.1001 - val_accuracy: 0.9766\n",
            "313/313 [==============================] - 1s 3ms/step - loss: 0.0906 - accuracy: 0.9771\n",
            "Test accuracy: 0.9771000146865845\n"
          ],
          "name": "stdout"
        }
      ]
    },
    {
      "cell_type": "markdown",
      "metadata": {
        "id": "hL6HQE1wJoL2"
      },
      "source": [
        "The activation images should correspond to input images that maximize the activation of the output nodes, one image for each class. For simpler networks (especially (i) the fully connected single hidden layer), the activation images don't closely match input images, meaning the network learnt a different internal representation from what we wanted.\n",
        "\n",
        "In order to test that the activation images mazimize activation of the output class, we pass the activation images through the network and show their class probability."
      ]
    },
    {
      "cell_type": "code",
      "metadata": {
        "colab": {
          "base_uri": "https://localhost:8080/",
          "height": 1000
        },
        "id": "qCXyqclayR2I",
        "outputId": "e03bddb5-9f7a-4dbe-878f-a87cdb60bb81"
      },
      "source": [
        "# Activation Maximization parameters for CNN models (simple and regular models)\n",
        "#activations = AM_MNIST(model, steps=500, learning_rate=.05, output_indexes=np.arange(10), jitter=.02, rotate=1, tv=.1, l2norm=.1, rho=.90) #np.arange(1)\n",
        "\n",
        "# Activation Maximization parameters for fully connected model (I had to decrease learning rate bc the model was overshooting)\n",
        "activations = AM_MNIST(model, steps=500, learning_rate=.03, output_indexes=np.arange(10), jitter=.02, rotate=1, tv=.1, l2norm=.1, rho=.90) #np.arange(1)\n",
        "printActivationImages(activations)\n",
        "pred = model(activations) # if activations normalized to input_range (0,1)\n",
        "plt.figure(figsize=(50,10))\n",
        "plt.imshow(pred)\n",
        "print('Predicted class for activation image_i', np.argmax(pred, axis=1), 'with prob', [pred[item].numpy() for item in zip(np.arange(10),np.argmax(pred, axis=1))])"
      ],
      "execution_count": null,
      "outputs": [
        {
          "output_type": "stream",
          "text": [
            "Steps: 050\tLosses: [[460.00518798828125, 439.58966064453125, 777.0869140625, 707.6158447265625, 655.5316162109375, 769.3419189453125, 677.5971069335938, 814.46142578125, 337.8890686035156, 721.7670288085938]],\tRegularizations: [('TotalVariation', 0.019240988418459892), ('L2Norm', 0.00032804705551825464)]\n",
            "Steps: 100\tLosses: [[740.6632080078125, 718.964111328125, 1344.131103515625, 1061.1451416015625, 1123.1937255859375, 1349.0220947265625, 1133.4805908203125, 1390.1064453125, 563.49755859375, 1254.599365234375]],\tRegularizations: [('TotalVariation', 0.028064653277397156), ('L2Norm', 0.0002276124432682991)]\n",
            "Steps: 150\tLosses: [[1003.5189819335938, 968.0065307617188, 1707.4512939453125, 1352.189208984375, 1503.1510009765625, 1750.501220703125, 1488.5936279296875, 1923.1612548828125, 679.0068969726562, 1618.9002685546875]],\tRegularizations: [('TotalVariation', 0.03365956246852875), ('L2Norm', 0.0001865525118773803)]\n",
            "Steps: 200\tLosses: [[1180.775634765625, 1055.6204833984375, 2015.0711669921875, 1506.2291259765625, 1781.7078857421875, 2076.819580078125, 1751.4893798828125, 2346.77978515625, 849.025634765625, 1918.8841552734375]],\tRegularizations: [('TotalVariation', 0.037473391741514206), ('L2Norm', 0.00016525133105460554)]\n",
            "Steps: 250\tLosses: [[1371.96533203125, 1306.7088623046875, 2141.578369140625, 1711.7982177734375, 1944.8394775390625, 2410.4970703125, 2012.8699951171875, 2590.867919921875, 935.8880004882812, 2264.160888671875]],\tRegularizations: [('TotalVariation', 0.04079834744334221), ('L2Norm', 0.00014779804041609168)]\n",
            "Steps: 300\tLosses: [[1509.762451171875, 1385.7037353515625, 2474.76123046875, 1878.234619140625, 2215.994140625, 2697.669189453125, 2272.25146484375, 2818.65380859375, 1019.9561157226562, 2473.08154296875]],\tRegularizations: [('TotalVariation', 0.04361434653401375), ('L2Norm', 0.00012336589861661196)]\n",
            "Steps: 350\tLosses: [[1718.8087158203125, 1384.8455810546875, 2667.776123046875, 1976.1563720703125, 2405.18212890625, 3030.990966796875, 2537.951171875, 2674.945556640625, 1078.9388427734375, 2750.15966796875]],\tRegularizations: [('TotalVariation', 0.046031367033720016), ('L2Norm', 0.00010350590309826657)]\n",
            "Steps: 400\tLosses: [[1862.0103759765625, 1580.820556640625, 2959.162109375, 2204.577392578125, 2601.5068359375, 3149.431640625, 2588.85205078125, 3011.832763671875, 1178.1307373046875, 2726.330322265625]],\tRegularizations: [('TotalVariation', 0.04880140349268913), ('L2Norm', 8.854488987708464e-05)]\n",
            "Steps: 450\tLosses: [[2046.0814208984375, 1661.8109130859375, 3012.328857421875, 2393.5888671875, 2784.995849609375, 3524.61669921875, 2874.719970703125, 3199.563232421875, 1290.7578125, 3068.836181640625]],\tRegularizations: [('TotalVariation', 0.05164244398474693), ('L2Norm', 7.90855847299099e-05)]\n",
            "Steps: 500\tLosses: [[2123.07763671875, 1647.252685546875, 3141.0625, 2301.320556640625, 2967.826904296875, 3680.573974609375, 3085.97021484375, 3626.00732421875, 1364.9840087890625, 3215.0517578125]],\tRegularizations: [('TotalVariation', 0.05279545858502388), ('L2Norm', 7.06934297340922e-05)]\n"
          ],
          "name": "stdout"
        },
        {
          "output_type": "display_data",
          "data": {
            "image/png": "[encoded data removed]",
            "text/plain": [
              "<Figure size 432x288 with 1 Axes>"
            ]
          },
          "metadata": {
            "tags": [],
            "needs_background": "light"
          }
        },
        {
          "output_type": "display_data",
          "data": {
            "image/png": "[encoded data removed]",
            "text/plain": [
              "<Figure size 432x288 with 1 Axes>"
            ]
          },
          "metadata": {
            "tags": [],
            "needs_background": "light"
          }
        },
        {
          "output_type": "display_data",
          "data": {
            "image/png": "[encoded data removed]",
            "text/plain": [
              "<Figure size 432x288 with 1 Axes>"
            ]
          },
          "metadata": {
            "tags": [],
            "needs_background": "light"
          }
        },
        {
          "output_type": "display_data",
          "data": {
            "image/png": "[encoded data removed]",
            "text/plain": [
              "<Figure size 432x288 with 1 Axes>"
            ]
          },
          "metadata": {
            "tags": [],
            "needs_background": "light"
          }
        },
        {
          "output_type": "display_data",
          "data": {
            "image/png": "[encoded data removed]",
            "text/plain": [
              "<Figure size 432x288 with 1 Axes>"
            ]
          },
          "metadata": {
            "tags": [],
            "needs_background": "light"
          }
        },
        {
          "output_type": "display_data",
          "data": {
            "image/png": "[encoded data removed]",
            "text/plain": [
              "<Figure size 432x288 with 1 Axes>"
            ]
          },
          "metadata": {
            "tags": [],
            "needs_background": "light"
          }
        },
        {
          "output_type": "display_data",
          "data": {
            "image/png": "[encoded data removed]",
            "text/plain": [
              "<Figure size 432x288 with 1 Axes>"
            ]
          },
          "metadata": {
            "tags": [],
            "needs_background": "light"
          }
        },
        {
          "output_type": "display_data",
          "data": {
            "image/png": "[encoded data removed]",
            "text/plain": [
              "<Figure size 432x288 with 1 Axes>"
            ]
          },
          "metadata": {
            "tags": [],
            "needs_background": "light"
          }
        },
        {
          "output_type": "display_data",
          "data": {
            "image/png": "[encoded data removed]",
            "text/plain": [
              "<Figure size 432x288 with 1 Axes>"
            ]
          },
          "metadata": {
            "tags": [],
            "needs_background": "light"
          }
        },
        {
          "output_type": "display_data",
          "data": {
            "image/png": "[encoded data removed]",
            "text/plain": [
              "<Figure size 432x288 with 1 Axes>"
            ]
          },
          "metadata": {
            "tags": [],
            "needs_background": "light"
          }
        },
        {
          "output_type": "stream",
          "text": [
            "Predicted class for activation image_i [0 1 2 3 4 5 6 7 8 9] with prob [0.9999993, 0.9999504, 1.0, 1.0, 0.9999192, 1.0, 1.0, 1.0, 0.99999857, 1.0]\n"
          ],
          "name": "stdout"
        },
        {
          "output_type": "display_data",
          "data": {
            "image/png": "[encoded data removed]",
            "text/plain": [
              "<Figure size 3600x720 with 1 Axes>"
            ]
          },
          "metadata": {
            "tags": [],
            "needs_background": "light"
          }
        }
      ]
    }
  ]
}