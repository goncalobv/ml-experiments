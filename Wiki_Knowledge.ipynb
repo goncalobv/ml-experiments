{
  "nbformat": 4,
  "nbformat_minor": 0,
  "metadata": {
    "colab": {
      "name": "Wiki Knowledge.ipynb",
      "provenance": [],
      "authorship_tag": "ABX9TyNnQojzzA4ZY2Kvf8nKeFlv",
      "include_colab_link": true
    },
    "kernelspec": {
      "name": "python3",
      "display_name": "Python 3"
    }
  },
  "cells": [
    {
      "cell_type": "markdown",
      "metadata": {
        "id": "view-in-github",
        "colab_type": "text"
      },
      "source": [
        "<a href=\"https://colab.research.google.com/github/goncalobv/ml-experiments/blob/main/Wiki_Knowledge.ipynb\" target=\"_parent\"><img src=\"https://colab.research.google.com/assets/colab-badge.svg\" alt=\"Open In Colab\"/></a>"
      ]
    },
    {
      "cell_type": "markdown",
      "metadata": {
        "id": "63e7PW7xeAHl"
      },
      "source": [
        "# Visualizing a Wikipedia article\n",
        "This lab extracts an article from Wikipedia given a query and then visualizes that article as a graph."
      ]
    },
    {
      "cell_type": "code",
      "metadata": {
        "id": "vv64Hf7rYWE0"
      },
      "source": [
        "!pip install dimcli pyvis -U --quiet"
      ],
      "execution_count": 1,
      "outputs": []
    },
    {
      "cell_type": "code",
      "metadata": {
        "id": "PcNWlJdzM29k",
        "colab": {
          "base_uri": "https://localhost:8080/"
        },
        "outputId": "ee0d76e8-4997-4ce4-9be0-3f7f602f0fb9"
      },
      "source": [
        "import json\n",
        "import requests\n",
        "import numpy as np\n",
        "import pandas as pd\n",
        "import networkx as nx\n",
        "import matplotlib.pyplot as plt\n",
        "from dimcli.core.extras import NetworkViz\n",
        "\n",
        "\n",
        "# Some code from the https://github.com/holtzy/The-Python-Graph-Gallery/blob/master/LICENSE\n",
        "wikiBaseURL = \"https://en.wikipedia.org/w/api.php?format=json&action=query&prop=extracts&exintro=&explaintext=&titles=\"\n",
        "\n",
        "def queryWiki(query):\n",
        "  response = requests.get(wikiBaseURL+query)\n",
        "  text = [];\n",
        "\n",
        "  if response.status_code == 200:\n",
        "      jsonResponse = json.loads(response.content.decode('utf-8'))\n",
        "      pagesMap = jsonResponse['query']['pages']\n",
        "      texts = []\n",
        "      for page in pagesMap.values():\n",
        "        texts.append(page['extract']);\n",
        "      print(texts)\n",
        "      # print('{0}:{1}'.format(k, v))\n",
        "      \n",
        "      return texts\n",
        "  else:\n",
        "      return None\n",
        "\n",
        "def buildDiGraph(stringList):\n",
        "  fromList = stringList[0:-1]\n",
        "  fromList\n",
        "  toList = stringList[1:]\n",
        "  toList\n",
        "  # Build a dataframe with your connections\n",
        "  # This time a pair can appear 2 times, in one side or in the other!\n",
        "  df = pd.DataFrame({ 'from': fromList, 'to': toList})\n",
        "  df\n",
        "  \n",
        "  # Build your graph. Note that we use the DiGraph function to create the graph!\n",
        "  G=nx.from_pandas_edgelist(df, 'from', 'to', create_using=nx.DiGraph() )\n",
        "  return G\n",
        "\n",
        "\n"
      ],
      "execution_count": 2,
      "outputs": [
        {
          "output_type": "stream",
          "text": [
            "WARNING: the `extras` module is deprecated. Use instead ``from dimcli.utils.networkviz import *``\n"
          ],
          "name": "stdout"
        }
      ]
    },
    {
      "cell_type": "code",
      "metadata": {
        "id": "c9UyYU1YXEro",
        "colab": {
          "base_uri": "https://localhost:8080/",
          "height": 538
        },
        "outputId": "6023d4f9-7543-4bef-e966-721be4f0b733"
      },
      "source": [
        "## Test script\n",
        "G=nx.path_graph(4)\n",
        "pos=nx.spring_layout(G)\n",
        "#nx.draw(G, with_labels=True, node_size=150, alpha=0.3, arrows=True)\n",
        "from dimcli.core.extras import NetworkViz\n",
        "import networkx as nx\n",
        "nt = NetworkViz(notebook=True)\n",
        "# populates the nodes and edges data structures\n",
        "nt.from_nx(G)\n",
        "nt.show(\"nx.html\")\n"
      ],
      "execution_count": 3,
      "outputs": [
        {
          "output_type": "execute_result",
          "data": {
            "text/html": [
              "<html>\n",
              "<head>\n",
              "<link rel=\"stylesheet\" href=\"https://cdnjs.cloudflare.com/ajax/libs/vis/4.16.1/vis.css\" type=\"text/css\" />\n",
              "<script type=\"text/javascript\" src=\"https://cdnjs.cloudflare.com/ajax/libs/vis/4.16.1/vis-network.min.js\"> </script>\n",
              "<center>\n",
              "<h1></h1>\n",
              "</center>\n",
              "\n",
              "<!-- <link rel=\"stylesheet\" href=\"../node_modules/vis/dist/vis.min.css\" type=\"text/css\" />\n",
              "<script type=\"text/javascript\" src=\"../node_modules/vis/dist/vis.js\"> </script>-->\n",
              "\n",
              "<style type=\"text/css\">\n",
              "\n",
              "        #mynetwork {\n",
              "            width: 500px;\n",
              "            height: 500px;\n",
              "            background-color: #ffffff;\n",
              "            border: 1px solid lightgray;\n",
              "            position: relative;\n",
              "            float: left;\n",
              "        }\n",
              "\n",
              "        \n",
              "\n",
              "        \n",
              "\n",
              "        \n",
              "</style>\n",
              "\n",
              "</head>\n",
              "\n",
              "<body>\n",
              "<div id = \"mynetwork\"></div>\n",
              "\n",
              "\n",
              "<script type=\"text/javascript\">\n",
              "\n",
              "    // initialize global variables.\n",
              "    var edges;\n",
              "    var nodes;\n",
              "    var network; \n",
              "    var container;\n",
              "    var options, data;\n",
              "\n",
              "    \n",
              "    // This method is responsible for drawing the graph, returns the drawn network\n",
              "    function drawGraph() {\n",
              "        var container = document.getElementById('mynetwork');\n",
              "        \n",
              "        \n",
              "\n",
              "        // parsing and collecting nodes and edges from the python\n",
              "        nodes = new vis.DataSet([{\"id\": 0, \"label\": 0, \"shape\": \"dot\", \"size\": 10}, {\"id\": 1, \"label\": 1, \"shape\": \"dot\", \"size\": 10}, {\"id\": 2, \"label\": 2, \"shape\": \"dot\", \"size\": 10}, {\"id\": 3, \"label\": 3, \"shape\": \"dot\", \"size\": 10}]);\n",
              "        edges = new vis.DataSet([{\"from\": 0, \"to\": 1, \"weight\": 1}, {\"from\": 1, \"to\": 2, \"weight\": 1}, {\"from\": 2, \"to\": 3, \"weight\": 1}]);\n",
              "\n",
              "        // adding nodes and edges to the graph\n",
              "        data = {nodes: nodes, edges: edges};\n",
              "\n",
              "        var options = {\n",
              "    \"configure\": {\n",
              "        \"enabled\": false\n",
              "    },\n",
              "    \"edges\": {\n",
              "        \"color\": {\n",
              "            \"inherit\": true\n",
              "        },\n",
              "        \"smooth\": {\n",
              "            \"enabled\": false,\n",
              "            \"type\": \"continuous\"\n",
              "        }\n",
              "    },\n",
              "    \"interaction\": {\n",
              "        \"dragNodes\": true,\n",
              "        \"hideEdgesOnDrag\": false,\n",
              "        \"hideNodesOnDrag\": false\n",
              "    },\n",
              "    \"physics\": {\n",
              "        \"enabled\": true,\n",
              "        \"stabilization\": {\n",
              "            \"enabled\": true,\n",
              "            \"fit\": true,\n",
              "            \"iterations\": 1000,\n",
              "            \"onlyDynamicEdges\": false,\n",
              "            \"updateInterval\": 50\n",
              "        }\n",
              "    }\n",
              "};\n",
              "        \n",
              "        \n",
              "\n",
              "        \n",
              "\n",
              "        network = new vis.Network(container, data, options);\n",
              "\t \n",
              "        \n",
              "\n",
              "\n",
              "        \n",
              "\n",
              "        return network;\n",
              "\n",
              "    }\n",
              "\n",
              "    drawGraph();\n",
              "\n",
              "</script>\n",
              "</body>\n",
              "</html>"
            ],
            "text/plain": [
              "<IPython.core.display.HTML object>"
            ]
          },
          "metadata": {
            "tags": []
          },
          "execution_count": 3
        }
      ]
    },
    {
      "cell_type": "code",
      "metadata": {
        "id": "JdMqA3uPfAe9",
        "colab": {
          "base_uri": "https://localhost:8080/",
          "height": 1000
        },
        "outputId": "06001849-811b-4cd6-933b-7b1b54c8411a"
      },
      "source": [
        "#stringList = \"The are many different trees trees are tall heras are trees\".lower().split(\" \")\n",
        "stringList = queryWiki(\"portugal\")[0].split(' ')\n",
        "#stringList = \"The quick brown fox jumps over the lazy dog\".lower().split(\" \")\n",
        "\n",
        "G = buildDiGraph(stringList)\n",
        "# Draw the interactive graph\n",
        "\n",
        "nt = NetworkViz(notebook=True)\n",
        "nt.width = '100%';\n",
        "nt.height = '1000px';\n",
        "nt.directed = True\n",
        "nt.from_nx(G)\n",
        "nt.show(\"graph.html\")\n",
        "#nx.draw(G, with_labels=True, node_size=1500, alpha=0.3, arrows=True)\n"
      ],
      "execution_count": 4,
      "outputs": [
        {
          "output_type": "stream",
          "text": [
            "[\"Portugal (Portuguese: [puɾtuˈɣaɫ]), officially the Portuguese Republic (Portuguese: República Portuguesa [ʁɛˈpuβlikɐ puɾtuˈɣezɐ]), is a country located on the Iberian Peninsula, in south-western Europe. It is the westernmost sovereign state in mainland Europe, bordered to the west and south by the Atlantic Ocean and to the north and east by Spain, the sole country to have a land border with Portugal. Portugal’s territory also includes the Atlantic archipelagos of the Azores and Madeira, both autonomous regions with their own regional governments. The official and national language is Portuguese. Lisbon is the capital and largest city.\\nPortugal is the oldest nation state on the Iberian Peninsula and one of the oldest in Europe, its territory having been continuously settled, invaded and fought over since prehistoric times. It was inhabited by pre-Celtic and Celtic peoples, visited by Phoenicians-Carthaginians, Ancient Greeks and ruled by the Romans, who were followed by the invasions of the Suebi and Visigothic Germanic peoples. After the invasion of the Iberian Peninsula by the Moors, most of its territory was part of Al-Andalus. Portugal as a country was established during the early Christian Reconquista. Founded in 868, the County of Portugal gained prominence after the Battle of São Mamede (1128). The Kingdom of Portugal was later proclaimed following the Battle of Ourique (1139), and independence from León was recognized by the Treaty of Zamora (1143).In the 15th and 16th centuries, Portugal established the first global maritime and commercial empire, becoming one of the world's major economic, political and military powers. During this period, today referred to as the Age of Discovery, Portuguese explorers pioneered maritime exploration with the discovery of what would become Brazil (1500). During this time Portugal monopolized the spice trade, divided the world into hemispheres of dominion with Castile, and the empire expanded with military campaigns in Asia. However, events such as the 1755 Lisbon earthquake, the country's occupation during the Napoleonic Wars, and the independence of Brazil (1822) erased to a great extent Portugal's prior opulence. A civil war between liberal constitutionalists and conservative absolutists in Portugal over royal succession lasted from 1828 to 1834.\\nAfter the 1910 revolution deposed the monarchy, the democratic but unstable Portuguese First Republic was established, later being superseded by the Estado Novo authoritarian regime. Democracy was restored after the Carnation Revolution (1974), ending the Portuguese Colonial War. Shortly after, independence was granted to almost all its overseas territories. The handover of Macau to China (1999) marked the end of what can be considered one of the longest-lived colonial empires in history.\\nPortugal has left a profound cultural, architectural and linguistic influence across the globe, with a legacy of around 250 million Portuguese speakers, and many Portuguese-based creoles. It is a developed country with an advanced economy and high living standards. Additionally, it ranks highly in moral freedom, peacefulness, democracy, press freedom, stability, social progress, and prosperity. A member of the United Nations, the European Union, the Schengen Area and the Council of Europe (CoE), Portugal was also one of the founding members of NATO, the eurozone, the OECD, and the Community of Portuguese Language Countries.\"]\n"
          ],
          "name": "stdout"
        },
        {
          "output_type": "execute_result",
          "data": {
            "text/html": [
              "<html>\n",
              "<head>\n",
              "<link rel=\"stylesheet\" href=\"https://cdnjs.cloudflare.com/ajax/libs/vis/4.16.1/vis.css\" type=\"text/css\" />\n",
              "<script type=\"text/javascript\" src=\"https://cdnjs.cloudflare.com/ajax/libs/vis/4.16.1/vis-network.min.js\"> </script>\n",
              "<center>\n",
              "<h1></h1>\n",
              "</center>\n",
              "\n",
              "<!-- <link rel=\"stylesheet\" href=\"../node_modules/vis/dist/vis.min.css\" type=\"text/css\" />\n",
              "<script type=\"text/javascript\" src=\"../node_modules/vis/dist/vis.js\"> </script>-->\n",
              "\n",
              "<style type=\"text/css\">\n",
              "\n",
              "        #mynetwork {\n",
              "            width: 100%;\n",
              "            height: 1000px;\n",
              "            background-color: #ffffff;\n",
              "            border: 1px solid lightgray;\n",
              "            position: relative;\n",
              "            float: left;\n",
              "        }\n",
              "\n",
              "        \n",
              "        #loadingBar {\n",
              "            position:absolute;\n",
              "            top:0px;\n",
              "            left:0px;\n",
              "            width: 100%;\n",
              "            height: 1000px;\n",
              "            background-color:rgba(200,200,200,0.8);\n",
              "            -webkit-transition: all 0.5s ease;\n",
              "            -moz-transition: all 0.5s ease;\n",
              "            -ms-transition: all 0.5s ease;\n",
              "            -o-transition: all 0.5s ease;\n",
              "            transition: all 0.5s ease;\n",
              "            opacity:1;\n",
              "        }\n",
              "\n",
              "        #bar {\n",
              "            position:absolute;\n",
              "            top:0px;\n",
              "            left:0px;\n",
              "            width:20px;\n",
              "            height:20px;\n",
              "            margin:auto auto auto auto;\n",
              "            border-radius:11px;\n",
              "            border:2px solid rgba(30,30,30,0.05);\n",
              "            background: rgb(0, 173, 246); /* Old browsers */\n",
              "            box-shadow: 2px 0px 4px rgba(0,0,0,0.4);\n",
              "        }\n",
              "\n",
              "        #border {\n",
              "            position:absolute;\n",
              "            top:10px;\n",
              "            left:10px;\n",
              "            width:500px;\n",
              "            height:23px;\n",
              "            margin:auto auto auto auto;\n",
              "            box-shadow: 0px 0px 4px rgba(0,0,0,0.2);\n",
              "            border-radius:10px;\n",
              "        }\n",
              "\n",
              "        #text {\n",
              "            position:absolute;\n",
              "            top:8px;\n",
              "            left:530px;\n",
              "            width:30px;\n",
              "            height:50px;\n",
              "            margin:auto auto auto auto;\n",
              "            font-size:22px;\n",
              "            color: #000000;\n",
              "        }\n",
              "\n",
              "        div.outerBorder {\n",
              "            position:relative;\n",
              "            top:400px;\n",
              "            width:600px;\n",
              "            height:44px;\n",
              "            margin:auto auto auto auto;\n",
              "            border:8px solid rgba(0,0,0,0.1);\n",
              "            background: rgb(252,252,252); /* Old browsers */\n",
              "            background: -moz-linear-gradient(top,  rgba(252,252,252,1) 0%, rgba(237,237,237,1) 100%); /* FF3.6+ */\n",
              "            background: -webkit-gradient(linear, left top, left bottom, color-stop(0%,rgba(252,252,252,1)), color-stop(100%,rgba(237,237,237,1))); /* Chrome,Safari4+ */\n",
              "            background: -webkit-linear-gradient(top,  rgba(252,252,252,1) 0%,rgba(237,237,237,1) 100%); /* Chrome10+,Safari5.1+ */\n",
              "            background: -o-linear-gradient(top,  rgba(252,252,252,1) 0%,rgba(237,237,237,1) 100%); /* Opera 11.10+ */\n",
              "            background: -ms-linear-gradient(top,  rgba(252,252,252,1) 0%,rgba(237,237,237,1) 100%); /* IE10+ */\n",
              "            background: linear-gradient(to bottom,  rgba(252,252,252,1) 0%,rgba(237,237,237,1) 100%); /* W3C */\n",
              "            filter: progid:DXImageTransform.Microsoft.gradient( startColorstr='#fcfcfc', endColorstr='#ededed',GradientType=0 ); /* IE6-9 */\n",
              "            border-radius:72px;\n",
              "            box-shadow: 0px 0px 10px rgba(0,0,0,0.2);\n",
              "        }\n",
              "        \n",
              "\n",
              "        \n",
              "\n",
              "        \n",
              "</style>\n",
              "\n",
              "</head>\n",
              "\n",
              "<body>\n",
              "<div id = \"mynetwork\"></div>\n",
              "\n",
              "<div id=\"loadingBar\">\n",
              "    <div class=\"outerBorder\">\n",
              "        <div id=\"text\">0%</div>\n",
              "        <div id=\"border\">\n",
              "            <div id=\"bar\"></div>\n",
              "        </div>\n",
              "    </div>\n",
              "</div>\n",
              "\n",
              "\n",
              "<script type=\"text/javascript\">\n",
              "\n",
              "    // initialize global variables.\n",
              "    var edges;\n",
              "    var nodes;\n",
              "    var network; \n",
              "    var container;\n",
              "    var options, data;\n",
              "\n",
              "    \n",
              "    // This method is responsible for drawing the graph, returns the drawn network\n",
              "    function drawGraph() {\n",
              "        var container = document.getElementById('mynetwork');\n",
              "        \n",
              "        \n",
              "\n",
              "        // parsing and collecting nodes and edges from the python\n",
              "        nodes = new vis.DataSet([{\"id\": \"Portugal\", \"label\": \"Portugal\", \"shape\": \"dot\", \"size\": 10}, {\"id\": \"(Portuguese:\", \"label\": \"(Portuguese:\", \"shape\": \"dot\", \"size\": 10}, {\"id\": \"as\", \"label\": \"as\", \"shape\": \"dot\", \"size\": 10}, {\"id\": \"gained\", \"label\": \"gained\", \"shape\": \"dot\", \"size\": 10}, {\"id\": \"was\", \"label\": \"was\", \"shape\": \"dot\", \"size\": 10}, {\"id\": \"established\", \"label\": \"established\", \"shape\": \"dot\", \"size\": 10}, {\"id\": \"monopolized\", \"label\": \"monopolized\", \"shape\": \"dot\", \"size\": 10}, {\"id\": \"over\", \"label\": \"over\", \"shape\": \"dot\", \"size\": 10}, {\"id\": \"[pu\\u027etu\\u02c8\\u0263a\\u026b]),\", \"label\": \"[pu\\u027etu\\u02c8\\u0263a\\u026b]),\", \"shape\": \"dot\", \"size\": 10}, {\"id\": \"Rep\\u00fablica\", \"label\": \"Rep\\u00fablica\", \"shape\": \"dot\", \"size\": 10}, {\"id\": \"officially\", \"label\": \"officially\", \"shape\": \"dot\", \"size\": 10}, {\"id\": \"the\", \"label\": \"the\", \"shape\": \"dot\", \"size\": 10}, {\"id\": \"Portuguese\", \"label\": \"Portuguese\", \"shape\": \"dot\", \"size\": 10}, {\"id\": \"Iberian\", \"label\": \"Iberian\", \"shape\": \"dot\", \"size\": 10}, {\"id\": \"westernmost\", \"label\": \"westernmost\", \"shape\": \"dot\", \"size\": 10}, {\"id\": \"west\", \"label\": \"west\", \"shape\": \"dot\", \"size\": 10}, {\"id\": \"Atlantic\", \"label\": \"Atlantic\", \"shape\": \"dot\", \"size\": 10}, {\"id\": \"north\", \"label\": \"north\", \"shape\": \"dot\", \"size\": 10}, {\"id\": \"sole\", \"label\": \"sole\", \"shape\": \"dot\", \"size\": 10}, {\"id\": \"Azores\", \"label\": \"Azores\", \"shape\": \"dot\", \"size\": 10}, {\"id\": \"capital\", \"label\": \"capital\", \"shape\": \"dot\", \"size\": 10}, {\"id\": \"oldest\", \"label\": \"oldest\", \"shape\": \"dot\", \"size\": 10}, {\"id\": \"Romans,\", \"label\": \"Romans,\", \"shape\": \"dot\", \"size\": 10}, {\"id\": \"invasions\", \"label\": \"invasions\", \"shape\": \"dot\", \"size\": 10}, {\"id\": \"Suebi\", \"label\": \"Suebi\", \"shape\": \"dot\", \"size\": 10}, {\"id\": \"invasion\", \"label\": \"invasion\", \"shape\": \"dot\", \"size\": 10}, {\"id\": \"Moors,\", \"label\": \"Moors,\", \"shape\": \"dot\", \"size\": 10}, {\"id\": \"early\", \"label\": \"early\", \"shape\": \"dot\", \"size\": 10}, {\"id\": \"County\", \"label\": \"County\", \"shape\": \"dot\", \"size\": 10}, {\"id\": \"Battle\", \"label\": \"Battle\", \"shape\": \"dot\", \"size\": 10}, {\"id\": \"Treaty\", \"label\": \"Treaty\", \"shape\": \"dot\", \"size\": 10}, {\"id\": \"15th\", \"label\": \"15th\", \"shape\": \"dot\", \"size\": 10}, {\"id\": \"first\", \"label\": \"first\", \"shape\": \"dot\", \"size\": 10}, {\"id\": \"world\\u0027s\", \"label\": \"world\\u0027s\", \"shape\": \"dot\", \"size\": 10}, {\"id\": \"Age\", \"label\": \"Age\", \"shape\": \"dot\", \"size\": 10}, {\"id\": \"discovery\", \"label\": \"discovery\", \"shape\": \"dot\", \"size\": 10}, {\"id\": \"spice\", \"label\": \"spice\", \"shape\": \"dot\", \"size\": 10}, {\"id\": \"world\", \"label\": \"world\", \"shape\": \"dot\", \"size\": 10}, {\"id\": \"empire\", \"label\": \"empire\", \"shape\": \"dot\", \"size\": 10}, {\"id\": \"1755\", \"label\": \"1755\", \"shape\": \"dot\", \"size\": 10}, {\"id\": \"country\\u0027s\", \"label\": \"country\\u0027s\", \"shape\": \"dot\", \"size\": 10}, {\"id\": \"Napoleonic\", \"label\": \"Napoleonic\", \"shape\": \"dot\", \"size\": 10}, {\"id\": \"independence\", \"label\": \"independence\", \"shape\": \"dot\", \"size\": 10}, {\"id\": \"1910\", \"label\": \"1910\", \"shape\": \"dot\", \"size\": 10}, {\"id\": \"monarchy,\", \"label\": \"monarchy,\", \"shape\": \"dot\", \"size\": 10}, {\"id\": \"democratic\", \"label\": \"democratic\", \"shape\": \"dot\", \"size\": 10}, {\"id\": \"Estado\", \"label\": \"Estado\", \"shape\": \"dot\", \"size\": 10}, {\"id\": \"Carnation\", \"label\": \"Carnation\", \"shape\": \"dot\", \"size\": 10}, {\"id\": \"end\", \"label\": \"end\", \"shape\": \"dot\", \"size\": 10}, {\"id\": \"longest-lived\", \"label\": \"longest-lived\", \"shape\": \"dot\", \"size\": 10}, {\"id\": \"globe,\", \"label\": \"globe,\", \"shape\": \"dot\", \"size\": 10}, {\"id\": \"United\", \"label\": \"United\", \"shape\": \"dot\", \"size\": 10}, {\"id\": \"European\", \"label\": \"European\", \"shape\": \"dot\", \"size\": 10}, {\"id\": \"Schengen\", \"label\": \"Schengen\", \"shape\": \"dot\", \"size\": 10}, {\"id\": \"Council\", \"label\": \"Council\", \"shape\": \"dot\", \"size\": 10}, {\"id\": \"founding\", \"label\": \"founding\", \"shape\": \"dot\", \"size\": 10}, {\"id\": \"eurozone,\", \"label\": \"eurozone,\", \"shape\": \"dot\", \"size\": 10}, {\"id\": \"OECD,\", \"label\": \"OECD,\", \"shape\": \"dot\", \"size\": 10}, {\"id\": \"Community\", \"label\": \"Community\", \"shape\": \"dot\", \"size\": 10}, {\"id\": \"Republic\", \"label\": \"Republic\", \"shape\": \"dot\", \"size\": 10}, {\"id\": \"explorers\", \"label\": \"explorers\", \"shape\": \"dot\", \"size\": 10}, {\"id\": \"First\", \"label\": \"First\", \"shape\": \"dot\", \"size\": 10}, {\"id\": \"Colonial\", \"label\": \"Colonial\", \"shape\": \"dot\", \"size\": 10}, {\"id\": \"speakers,\", \"label\": \"speakers,\", \"shape\": \"dot\", \"size\": 10}, {\"id\": \"Language\", \"label\": \"Language\", \"shape\": \"dot\", \"size\": 10}, {\"id\": \"Portuguesa\", \"label\": \"Portuguesa\", \"shape\": \"dot\", \"size\": 10}, {\"id\": \"[\\u0281\\u025b\\u02c8pu\\u03b2lik\\u0250\", \"label\": \"[\\u0281\\u025b\\u02c8pu\\u03b2lik\\u0250\", \"shape\": \"dot\", \"size\": 10}, {\"id\": \"pu\\u027etu\\u02c8\\u0263ez\\u0250]),\", \"label\": \"pu\\u027etu\\u02c8\\u0263ez\\u0250]),\", \"shape\": \"dot\", \"size\": 10}, {\"id\": \"is\", \"label\": \"is\", \"shape\": \"dot\", \"size\": 10}, {\"id\": \"a\", \"label\": \"a\", \"shape\": \"dot\", \"size\": 10}, {\"id\": \"Portuguese.\", \"label\": \"Portuguese.\", \"shape\": \"dot\", \"size\": 10}, {\"id\": \"country\", \"label\": \"country\", \"shape\": \"dot\", \"size\": 10}, {\"id\": \"land\", \"label\": \"land\", \"shape\": \"dot\", \"size\": 10}, {\"id\": \"great\", \"label\": \"great\", \"shape\": \"dot\", \"size\": 10}, {\"id\": \"profound\", \"label\": \"profound\", \"shape\": \"dot\", \"size\": 10}, {\"id\": \"legacy\", \"label\": \"legacy\", \"shape\": \"dot\", \"size\": 10}, {\"id\": \"developed\", \"label\": \"developed\", \"shape\": \"dot\", \"size\": 10}, {\"id\": \"located\", \"label\": \"located\", \"shape\": \"dot\", \"size\": 10}, {\"id\": \"to\", \"label\": \"to\", \"shape\": \"dot\", \"size\": 10}, {\"id\": \"with\", \"label\": \"with\", \"shape\": \"dot\", \"size\": 10}, {\"id\": \"on\", \"label\": \"on\", \"shape\": \"dot\", \"size\": 10}, {\"id\": \"Peninsula,\", \"label\": \"Peninsula,\", \"shape\": \"dot\", \"size\": 10}, {\"id\": \"Peninsula\", \"label\": \"Peninsula\", \"shape\": \"dot\", \"size\": 10}, {\"id\": \"in\", \"label\": \"in\", \"shape\": \"dot\", \"size\": 10}, {\"id\": \"south-western\", \"label\": \"south-western\", \"shape\": \"dot\", \"size\": 10}, {\"id\": \"mainland\", \"label\": \"mainland\", \"shape\": \"dot\", \"size\": 10}, {\"id\": \"Europe,\", \"label\": \"Europe,\", \"shape\": \"dot\", \"size\": 10}, {\"id\": \"868,\", \"label\": \"868,\", \"shape\": \"dot\", \"size\": 10}, {\"id\": \"Asia.\", \"label\": \"Asia.\", \"shape\": \"dot\", \"size\": 10}, {\"id\": \"history.\\nPortugal\", \"label\": \"history.\\nPortugal\", \"shape\": \"dot\", \"size\": 10}, {\"id\": \"moral\", \"label\": \"moral\", \"shape\": \"dot\", \"size\": 10}, {\"id\": \"Europe.\", \"label\": \"Europe.\", \"shape\": \"dot\", \"size\": 10}, {\"id\": \"It\", \"label\": \"It\", \"shape\": \"dot\", \"size\": 10}, {\"id\": \"sovereign\", \"label\": \"sovereign\", \"shape\": \"dot\", \"size\": 10}, {\"id\": \"state\", \"label\": \"state\", \"shape\": \"dot\", \"size\": 10}, {\"id\": \"bordered\", \"label\": \"bordered\", \"shape\": \"dot\", \"size\": 10}, {\"id\": \"its\", \"label\": \"its\", \"shape\": \"dot\", \"size\": 10}, {\"id\": \"have\", \"label\": \"have\", \"shape\": \"dot\", \"size\": 10}, {\"id\": \"1834.\\nAfter\", \"label\": \"1834.\\nAfter\", \"shape\": \"dot\", \"size\": 10}, {\"id\": \"almost\", \"label\": \"almost\", \"shape\": \"dot\", \"size\": 10}, {\"id\": \"China\", \"label\": \"China\", \"shape\": \"dot\", \"size\": 10}, {\"id\": \"and\", \"label\": \"and\", \"shape\": \"dot\", \"size\": 10}, {\"id\": \"south\", \"label\": \"south\", \"shape\": \"dot\", \"size\": 10}, {\"id\": \"east\", \"label\": \"east\", \"shape\": \"dot\", \"size\": 10}, {\"id\": \"Madeira,\", \"label\": \"Madeira,\", \"shape\": \"dot\", \"size\": 10}, {\"id\": \"national\", \"label\": \"national\", \"shape\": \"dot\", \"size\": 10}, {\"id\": \"largest\", \"label\": \"largest\", \"shape\": \"dot\", \"size\": 10}, {\"id\": \"one\", \"label\": \"one\", \"shape\": \"dot\", \"size\": 10}, {\"id\": \"fought\", \"label\": \"fought\", \"shape\": \"dot\", \"size\": 10}, {\"id\": \"Celtic\", \"label\": \"Celtic\", \"shape\": \"dot\", \"size\": 10}, {\"id\": \"ruled\", \"label\": \"ruled\", \"shape\": \"dot\", \"size\": 10}, {\"id\": \"Visigothic\", \"label\": \"Visigothic\", \"shape\": \"dot\", \"size\": 10}, {\"id\": \"16th\", \"label\": \"16th\", \"shape\": \"dot\", \"size\": 10}, {\"id\": \"commercial\", \"label\": \"commercial\", \"shape\": \"dot\", \"size\": 10}, {\"id\": \"military\", \"label\": \"military\", \"shape\": \"dot\", \"size\": 10}, {\"id\": \"conservative\", \"label\": \"conservative\", \"shape\": \"dot\", \"size\": 10}, {\"id\": \"linguistic\", \"label\": \"linguistic\", \"shape\": \"dot\", \"size\": 10}, {\"id\": \"many\", \"label\": \"many\", \"shape\": \"dot\", \"size\": 10}, {\"id\": \"high\", \"label\": \"high\", \"shape\": \"dot\", \"size\": 10}, {\"id\": \"prosperity.\", \"label\": \"prosperity.\", \"shape\": \"dot\", \"size\": 10}, {\"id\": \"by\", \"label\": \"by\", \"shape\": \"dot\", \"size\": 10}, {\"id\": \"Spain,\", \"label\": \"Spain,\", \"shape\": \"dot\", \"size\": 10}, {\"id\": \"pre-Celtic\", \"label\": \"pre-Celtic\", \"shape\": \"dot\", \"size\": 10}, {\"id\": \"Phoenicians-Carthaginians,\", \"label\": \"Phoenicians-Carthaginians,\", \"shape\": \"dot\", \"size\": 10}, {\"id\": \"Ocean\", \"label\": \"Ocean\", \"shape\": \"dot\", \"size\": 10}, {\"id\": \"archipelagos\", \"label\": \"archipelagos\", \"shape\": \"dot\", \"size\": 10}, {\"id\": \"border\", \"label\": \"border\", \"shape\": \"dot\", \"size\": 10}, {\"id\": \"Portugal.\", \"label\": \"Portugal.\", \"shape\": \"dot\", \"size\": 10}, {\"id\": \"their\", \"label\": \"their\", \"shape\": \"dot\", \"size\": 10}, {\"id\": \"Castile,\", \"label\": \"Castile,\", \"shape\": \"dot\", \"size\": 10}, {\"id\": \"an\", \"label\": \"an\", \"shape\": \"dot\", \"size\": 10}, {\"id\": \"Portugal\\u2019s\", \"label\": \"Portugal\\u2019s\", \"shape\": \"dot\", \"size\": 10}, {\"id\": \"territory\", \"label\": \"territory\", \"shape\": \"dot\", \"size\": 10}, {\"id\": \"also\", \"label\": \"also\", \"shape\": \"dot\", \"size\": 10}, {\"id\": \"having\", \"label\": \"having\", \"shape\": \"dot\", \"size\": 10}, {\"id\": \"includes\", \"label\": \"includes\", \"shape\": \"dot\", \"size\": 10}, {\"id\": \"of\", \"label\": \"of\", \"shape\": \"dot\", \"size\": 10}, {\"id\": \"Al-Andalus.\", \"label\": \"Al-Andalus.\", \"shape\": \"dot\", \"size\": 10}, {\"id\": \"S\\u00e3o\", \"label\": \"S\\u00e3o\", \"shape\": \"dot\", \"size\": 10}, {\"id\": \"Ourique\", \"label\": \"Ourique\", \"shape\": \"dot\", \"size\": 10}, {\"id\": \"Zamora\", \"label\": \"Zamora\", \"shape\": \"dot\", \"size\": 10}, {\"id\": \"Discovery,\", \"label\": \"Discovery,\", \"shape\": \"dot\", \"size\": 10}, {\"id\": \"what\", \"label\": \"what\", \"shape\": \"dot\", \"size\": 10}, {\"id\": \"dominion\", \"label\": \"dominion\", \"shape\": \"dot\", \"size\": 10}, {\"id\": \"Brazil\", \"label\": \"Brazil\", \"shape\": \"dot\", \"size\": 10}, {\"id\": \"Macau\", \"label\": \"Macau\", \"shape\": \"dot\", \"size\": 10}, {\"id\": \"around\", \"label\": \"around\", \"shape\": \"dot\", \"size\": 10}, {\"id\": \"Europe\", \"label\": \"Europe\", \"shape\": \"dot\", \"size\": 10}, {\"id\": \"NATO,\", \"label\": \"NATO,\", \"shape\": \"dot\", \"size\": 10}, {\"id\": \"both\", \"label\": \"both\", \"shape\": \"dot\", \"size\": 10}, {\"id\": \"autonomous\", \"label\": \"autonomous\", \"shape\": \"dot\", \"size\": 10}, {\"id\": \"regions\", \"label\": \"regions\", \"shape\": \"dot\", \"size\": 10}, {\"id\": \"own\", \"label\": \"own\", \"shape\": \"dot\", \"size\": 10}, {\"id\": \"regional\", \"label\": \"regional\", \"shape\": \"dot\", \"size\": 10}, {\"id\": \"governments.\", \"label\": \"governments.\", \"shape\": \"dot\", \"size\": 10}, {\"id\": \"The\", \"label\": \"The\", \"shape\": \"dot\", \"size\": 10}, {\"id\": \"official\", \"label\": \"official\", \"shape\": \"dot\", \"size\": 10}, {\"id\": \"Kingdom\", \"label\": \"Kingdom\", \"shape\": \"dot\", \"size\": 10}, {\"id\": \"handover\", \"label\": \"handover\", \"shape\": \"dot\", \"size\": 10}, {\"id\": \"language\", \"label\": \"language\", \"shape\": \"dot\", \"size\": 10}, {\"id\": \"Lisbon\", \"label\": \"Lisbon\", \"shape\": \"dot\", \"size\": 10}, {\"id\": \"earthquake,\", \"label\": \"earthquake,\", \"shape\": \"dot\", \"size\": 10}, {\"id\": \"city.\\nPortugal\", \"label\": \"city.\\nPortugal\", \"shape\": \"dot\", \"size\": 10}, {\"id\": \"nation\", \"label\": \"nation\", \"shape\": \"dot\", \"size\": 10}, {\"id\": \"overseas\", \"label\": \"overseas\", \"shape\": \"dot\", \"size\": 10}, {\"id\": \"been\", \"label\": \"been\", \"shape\": \"dot\", \"size\": 10}, {\"id\": \"continuously\", \"label\": \"continuously\", \"shape\": \"dot\", \"size\": 10}, {\"id\": \"settled,\", \"label\": \"settled,\", \"shape\": \"dot\", \"size\": 10}, {\"id\": \"invaded\", \"label\": \"invaded\", \"shape\": \"dot\", \"size\": 10}, {\"id\": \"since\", \"label\": \"since\", \"shape\": \"dot\", \"size\": 10}, {\"id\": \"royal\", \"label\": \"royal\", \"shape\": \"dot\", \"size\": 10}, {\"id\": \"prehistoric\", \"label\": \"prehistoric\", \"shape\": \"dot\", \"size\": 10}, {\"id\": \"times.\", \"label\": \"times.\", \"shape\": \"dot\", \"size\": 10}, {\"id\": \"inhabited\", \"label\": \"inhabited\", \"shape\": \"dot\", \"size\": 10}, {\"id\": \"part\", \"label\": \"part\", \"shape\": \"dot\", \"size\": 10}, {\"id\": \"later\", \"label\": \"later\", \"shape\": \"dot\", \"size\": 10}, {\"id\": \"recognized\", \"label\": \"recognized\", \"shape\": \"dot\", \"size\": 10}, {\"id\": \"established,\", \"label\": \"established,\", \"shape\": \"dot\", \"size\": 10}, {\"id\": \"restored\", \"label\": \"restored\", \"shape\": \"dot\", \"size\": 10}, {\"id\": \"granted\", \"label\": \"granted\", \"shape\": \"dot\", \"size\": 10}, {\"id\": \"peoples,\", \"label\": \"peoples,\", \"shape\": \"dot\", \"size\": 10}, {\"id\": \"visited\", \"label\": \"visited\", \"shape\": \"dot\", \"size\": 10}, {\"id\": \"Ancient\", \"label\": \"Ancient\", \"shape\": \"dot\", \"size\": 10}, {\"id\": \"Greeks\", \"label\": \"Greeks\", \"shape\": \"dot\", \"size\": 10}, {\"id\": \"who\", \"label\": \"who\", \"shape\": \"dot\", \"size\": 10}, {\"id\": \"were\", \"label\": \"were\", \"shape\": \"dot\", \"size\": 10}, {\"id\": \"followed\", \"label\": \"followed\", \"shape\": \"dot\", \"size\": 10}, {\"id\": \"Germanic\", \"label\": \"Germanic\", \"shape\": \"dot\", \"size\": 10}, {\"id\": \"peoples.\", \"label\": \"peoples.\", \"shape\": \"dot\", \"size\": 10}, {\"id\": \"After\", \"label\": \"After\", \"shape\": \"dot\", \"size\": 10}, {\"id\": \"most\", \"label\": \"most\", \"shape\": \"dot\", \"size\": 10}, {\"id\": \"during\", \"label\": \"during\", \"shape\": \"dot\", \"size\": 10}, {\"id\": \"Christian\", \"label\": \"Christian\", \"shape\": \"dot\", \"size\": 10}, {\"id\": \"Reconquista.\", \"label\": \"Reconquista.\", \"shape\": \"dot\", \"size\": 10}, {\"id\": \"Founded\", \"label\": \"Founded\", \"shape\": \"dot\", \"size\": 10}, {\"id\": \"prominence\", \"label\": \"prominence\", \"shape\": \"dot\", \"size\": 10}, {\"id\": \"after\", \"label\": \"after\", \"shape\": \"dot\", \"size\": 10}, {\"id\": \"Mamede\", \"label\": \"Mamede\", \"shape\": \"dot\", \"size\": 10}, {\"id\": \"(1128).\", \"label\": \"(1128).\", \"shape\": \"dot\", \"size\": 10}, {\"id\": \"proclaimed\", \"label\": \"proclaimed\", \"shape\": \"dot\", \"size\": 10}, {\"id\": \"being\", \"label\": \"being\", \"shape\": \"dot\", \"size\": 10}, {\"id\": \"following\", \"label\": \"following\", \"shape\": \"dot\", \"size\": 10}, {\"id\": \"(1139),\", \"label\": \"(1139),\", \"shape\": \"dot\", \"size\": 10}, {\"id\": \"from\", \"label\": \"from\", \"shape\": \"dot\", \"size\": 10}, {\"id\": \"Le\\u00f3n\", \"label\": \"Le\\u00f3n\", \"shape\": \"dot\", \"size\": 10}, {\"id\": \"1828\", \"label\": \"1828\", \"shape\": \"dot\", \"size\": 10}, {\"id\": \"(1143).In\", \"label\": \"(1143).In\", \"shape\": \"dot\", \"size\": 10}, {\"id\": \"centuries,\", \"label\": \"centuries,\", \"shape\": \"dot\", \"size\": 10}, {\"id\": \"global\", \"label\": \"global\", \"shape\": \"dot\", \"size\": 10}, {\"id\": \"maritime\", \"label\": \"maritime\", \"shape\": \"dot\", \"size\": 10}, {\"id\": \"exploration\", \"label\": \"exploration\", \"shape\": \"dot\", \"size\": 10}, {\"id\": \"empire,\", \"label\": \"empire,\", \"shape\": \"dot\", \"size\": 10}, {\"id\": \"becoming\", \"label\": \"becoming\", \"shape\": \"dot\", \"size\": 10}, {\"id\": \"major\", \"label\": \"major\", \"shape\": \"dot\", \"size\": 10}, {\"id\": \"economic,\", \"label\": \"economic,\", \"shape\": \"dot\", \"size\": 10}, {\"id\": \"political\", \"label\": \"political\", \"shape\": \"dot\", \"size\": 10}, {\"id\": \"powers.\", \"label\": \"powers.\", \"shape\": \"dot\", \"size\": 10}, {\"id\": \"campaigns\", \"label\": \"campaigns\", \"shape\": \"dot\", \"size\": 10}, {\"id\": \"During\", \"label\": \"During\", \"shape\": \"dot\", \"size\": 10}, {\"id\": \"this\", \"label\": \"this\", \"shape\": \"dot\", \"size\": 10}, {\"id\": \"period,\", \"label\": \"period,\", \"shape\": \"dot\", \"size\": 10}, {\"id\": \"time\", \"label\": \"time\", \"shape\": \"dot\", \"size\": 10}, {\"id\": \"today\", \"label\": \"today\", \"shape\": \"dot\", \"size\": 10}, {\"id\": \"referred\", \"label\": \"referred\", \"shape\": \"dot\", \"size\": 10}, {\"id\": \"pioneered\", \"label\": \"pioneered\", \"shape\": \"dot\", \"size\": 10}, {\"id\": \"would\", \"label\": \"would\", \"shape\": \"dot\", \"size\": 10}, {\"id\": \"can\", \"label\": \"can\", \"shape\": \"dot\", \"size\": 10}, {\"id\": \"become\", \"label\": \"become\", \"shape\": \"dot\", \"size\": 10}, {\"id\": \"(1500).\", \"label\": \"(1500).\", \"shape\": \"dot\", \"size\": 10}, {\"id\": \"(1822)\", \"label\": \"(1822)\", \"shape\": \"dot\", \"size\": 10}, {\"id\": \"trade,\", \"label\": \"trade,\", \"shape\": \"dot\", \"size\": 10}, {\"id\": \"divided\", \"label\": \"divided\", \"shape\": \"dot\", \"size\": 10}, {\"id\": \"into\", \"label\": \"into\", \"shape\": \"dot\", \"size\": 10}, {\"id\": \"hemispheres\", \"label\": \"hemispheres\", \"shape\": \"dot\", \"size\": 10}, {\"id\": \"expanded\", \"label\": \"expanded\", \"shape\": \"dot\", \"size\": 10}, {\"id\": \"However,\", \"label\": \"However,\", \"shape\": \"dot\", \"size\": 10}, {\"id\": \"events\", \"label\": \"events\", \"shape\": \"dot\", \"size\": 10}, {\"id\": \"such\", \"label\": \"such\", \"shape\": \"dot\", \"size\": 10}, {\"id\": \"occupation\", \"label\": \"occupation\", \"shape\": \"dot\", \"size\": 10}, {\"id\": \"Wars,\", \"label\": \"Wars,\", \"shape\": \"dot\", \"size\": 10}, {\"id\": \"erased\", \"label\": \"erased\", \"shape\": \"dot\", \"size\": 10}, {\"id\": \"extent\", \"label\": \"extent\", \"shape\": \"dot\", \"size\": 10}, {\"id\": \"Portugal\\u0027s\", \"label\": \"Portugal\\u0027s\", \"shape\": \"dot\", \"size\": 10}, {\"id\": \"prior\", \"label\": \"prior\", \"shape\": \"dot\", \"size\": 10}, {\"id\": \"opulence.\", \"label\": \"opulence.\", \"shape\": \"dot\", \"size\": 10}, {\"id\": \"A\", \"label\": \"A\", \"shape\": \"dot\", \"size\": 10}, {\"id\": \"civil\", \"label\": \"civil\", \"shape\": \"dot\", \"size\": 10}, {\"id\": \"member\", \"label\": \"member\", \"shape\": \"dot\", \"size\": 10}, {\"id\": \"war\", \"label\": \"war\", \"shape\": \"dot\", \"size\": 10}, {\"id\": \"between\", \"label\": \"between\", \"shape\": \"dot\", \"size\": 10}, {\"id\": \"liberal\", \"label\": \"liberal\", \"shape\": \"dot\", \"size\": 10}, {\"id\": \"constitutionalists\", \"label\": \"constitutionalists\", \"shape\": \"dot\", \"size\": 10}, {\"id\": \"absolutists\", \"label\": \"absolutists\", \"shape\": \"dot\", \"size\": 10}, {\"id\": \"succession\", \"label\": \"succession\", \"shape\": \"dot\", \"size\": 10}, {\"id\": \"lasted\", \"label\": \"lasted\", \"shape\": \"dot\", \"size\": 10}, {\"id\": \"revolution\", \"label\": \"revolution\", \"shape\": \"dot\", \"size\": 10}, {\"id\": \"deposed\", \"label\": \"deposed\", \"shape\": \"dot\", \"size\": 10}, {\"id\": \"but\", \"label\": \"but\", \"shape\": \"dot\", \"size\": 10}, {\"id\": \"unstable\", \"label\": \"unstable\", \"shape\": \"dot\", \"size\": 10}, {\"id\": \"superseded\", \"label\": \"superseded\", \"shape\": \"dot\", \"size\": 10}, {\"id\": \"Novo\", \"label\": \"Novo\", \"shape\": \"dot\", \"size\": 10}, {\"id\": \"authoritarian\", \"label\": \"authoritarian\", \"shape\": \"dot\", \"size\": 10}, {\"id\": \"regime.\", \"label\": \"regime.\", \"shape\": \"dot\", \"size\": 10}, {\"id\": \"Democracy\", \"label\": \"Democracy\", \"shape\": \"dot\", \"size\": 10}, {\"id\": \"Revolution\", \"label\": \"Revolution\", \"shape\": \"dot\", \"size\": 10}, {\"id\": \"(1974),\", \"label\": \"(1974),\", \"shape\": \"dot\", \"size\": 10}, {\"id\": \"ending\", \"label\": \"ending\", \"shape\": \"dot\", \"size\": 10}, {\"id\": \"War.\", \"label\": \"War.\", \"shape\": \"dot\", \"size\": 10}, {\"id\": \"Shortly\", \"label\": \"Shortly\", \"shape\": \"dot\", \"size\": 10}, {\"id\": \"after,\", \"label\": \"after,\", \"shape\": \"dot\", \"size\": 10}, {\"id\": \"all\", \"label\": \"all\", \"shape\": \"dot\", \"size\": 10}, {\"id\": \"territories.\", \"label\": \"territories.\", \"shape\": \"dot\", \"size\": 10}, {\"id\": \"(1999)\", \"label\": \"(1999)\", \"shape\": \"dot\", \"size\": 10}, {\"id\": \"marked\", \"label\": \"marked\", \"shape\": \"dot\", \"size\": 10}, {\"id\": \"be\", \"label\": \"be\", \"shape\": \"dot\", \"size\": 10}, {\"id\": \"considered\", \"label\": \"considered\", \"shape\": \"dot\", \"size\": 10}, {\"id\": \"colonial\", \"label\": \"colonial\", \"shape\": \"dot\", \"size\": 10}, {\"id\": \"empires\", \"label\": \"empires\", \"shape\": \"dot\", \"size\": 10}, {\"id\": \"has\", \"label\": \"has\", \"shape\": \"dot\", \"size\": 10}, {\"id\": \"left\", \"label\": \"left\", \"shape\": \"dot\", \"size\": 10}, {\"id\": \"cultural,\", \"label\": \"cultural,\", \"shape\": \"dot\", \"size\": 10}, {\"id\": \"architectural\", \"label\": \"architectural\", \"shape\": \"dot\", \"size\": 10}, {\"id\": \"influence\", \"label\": \"influence\", \"shape\": \"dot\", \"size\": 10}, {\"id\": \"across\", \"label\": \"across\", \"shape\": \"dot\", \"size\": 10}, {\"id\": \"250\", \"label\": \"250\", \"shape\": \"dot\", \"size\": 10}, {\"id\": \"million\", \"label\": \"million\", \"shape\": \"dot\", \"size\": 10}, {\"id\": \"Portuguese-based\", \"label\": \"Portuguese-based\", \"shape\": \"dot\", \"size\": 10}, {\"id\": \"creoles.\", \"label\": \"creoles.\", \"shape\": \"dot\", \"size\": 10}, {\"id\": \"advanced\", \"label\": \"advanced\", \"shape\": \"dot\", \"size\": 10}, {\"id\": \"economy\", \"label\": \"economy\", \"shape\": \"dot\", \"size\": 10}, {\"id\": \"living\", \"label\": \"living\", \"shape\": \"dot\", \"size\": 10}, {\"id\": \"standards.\", \"label\": \"standards.\", \"shape\": \"dot\", \"size\": 10}, {\"id\": \"Additionally,\", \"label\": \"Additionally,\", \"shape\": \"dot\", \"size\": 10}, {\"id\": \"it\", \"label\": \"it\", \"shape\": \"dot\", \"size\": 10}, {\"id\": \"ranks\", \"label\": \"ranks\", \"shape\": \"dot\", \"size\": 10}, {\"id\": \"highly\", \"label\": \"highly\", \"shape\": \"dot\", \"size\": 10}, {\"id\": \"freedom,\", \"label\": \"freedom,\", \"shape\": \"dot\", \"size\": 10}, {\"id\": \"peacefulness,\", \"label\": \"peacefulness,\", \"shape\": \"dot\", \"size\": 10}, {\"id\": \"stability,\", \"label\": \"stability,\", \"shape\": \"dot\", \"size\": 10}, {\"id\": \"democracy,\", \"label\": \"democracy,\", \"shape\": \"dot\", \"size\": 10}, {\"id\": \"press\", \"label\": \"press\", \"shape\": \"dot\", \"size\": 10}, {\"id\": \"social\", \"label\": \"social\", \"shape\": \"dot\", \"size\": 10}, {\"id\": \"progress,\", \"label\": \"progress,\", \"shape\": \"dot\", \"size\": 10}, {\"id\": \"Nations,\", \"label\": \"Nations,\", \"shape\": \"dot\", \"size\": 10}, {\"id\": \"Union,\", \"label\": \"Union,\", \"shape\": \"dot\", \"size\": 10}, {\"id\": \"Area\", \"label\": \"Area\", \"shape\": \"dot\", \"size\": 10}, {\"id\": \"(CoE),\", \"label\": \"(CoE),\", \"shape\": \"dot\", \"size\": 10}, {\"id\": \"members\", \"label\": \"members\", \"shape\": \"dot\", \"size\": 10}, {\"id\": \"Countries.\", \"label\": \"Countries.\", \"shape\": \"dot\", \"size\": 10}]);\n",
              "        edges = new vis.DataSet([{\"arrows\": \"to\", \"from\": \"Portugal\", \"to\": \"(Portuguese:\", \"weight\": 1}, {\"arrows\": \"to\", \"from\": \"Portugal\", \"to\": \"as\", \"weight\": 1}, {\"arrows\": \"to\", \"from\": \"Portugal\", \"to\": \"gained\", \"weight\": 1}, {\"arrows\": \"to\", \"from\": \"Portugal\", \"to\": \"was\", \"weight\": 1}, {\"arrows\": \"to\", \"from\": \"Portugal\", \"to\": \"established\", \"weight\": 1}, {\"arrows\": \"to\", \"from\": \"Portugal\", \"to\": \"monopolized\", \"weight\": 1}, {\"arrows\": \"to\", \"from\": \"Portugal\", \"to\": \"over\", \"weight\": 1}, {\"arrows\": \"to\", \"from\": \"(Portuguese:\", \"to\": \"[pu\\u027etu\\u02c8\\u0263a\\u026b]),\", \"weight\": 1}, {\"arrows\": \"to\", \"from\": \"(Portuguese:\", \"to\": \"Rep\\u00fablica\", \"weight\": 1}, {\"arrows\": \"to\", \"from\": \"[pu\\u027etu\\u02c8\\u0263a\\u026b]),\", \"to\": \"officially\", \"weight\": 1}, {\"arrows\": \"to\", \"from\": \"officially\", \"to\": \"the\", \"weight\": 1}, {\"arrows\": \"to\", \"from\": \"the\", \"to\": \"Portuguese\", \"weight\": 1}, {\"arrows\": \"to\", \"from\": \"the\", \"to\": \"Iberian\", \"weight\": 1}, {\"arrows\": \"to\", \"from\": \"the\", \"to\": \"westernmost\", \"weight\": 1}, {\"arrows\": \"to\", \"from\": \"the\", \"to\": \"west\", \"weight\": 1}, {\"arrows\": \"to\", \"from\": \"the\", \"to\": \"Atlantic\", \"weight\": 1}, {\"arrows\": \"to\", \"from\": \"the\", \"to\": \"north\", \"weight\": 1}, {\"arrows\": \"to\", \"from\": \"the\", \"to\": \"sole\", \"weight\": 1}, {\"arrows\": \"to\", \"from\": \"the\", \"to\": \"Azores\", \"weight\": 1}, {\"arrows\": \"to\", \"from\": \"the\", \"to\": \"capital\", \"weight\": 1}, {\"arrows\": \"to\", \"from\": \"the\", \"to\": \"oldest\", \"weight\": 1}, {\"arrows\": \"to\", \"from\": \"the\", \"to\": \"Romans,\", \"weight\": 1}, {\"arrows\": \"to\", \"from\": \"the\", \"to\": \"invasions\", \"weight\": 1}, {\"arrows\": \"to\", \"from\": \"the\", \"to\": \"Suebi\", \"weight\": 1}, {\"arrows\": \"to\", \"from\": \"the\", \"to\": \"invasion\", \"weight\": 1}, {\"arrows\": \"to\", \"from\": \"the\", \"to\": \"Moors,\", \"weight\": 1}, {\"arrows\": \"to\", \"from\": \"the\", \"to\": \"early\", \"weight\": 1}, {\"arrows\": \"to\", \"from\": \"the\", \"to\": \"County\", \"weight\": 1}, {\"arrows\": \"to\", \"from\": \"the\", \"to\": \"Battle\", \"weight\": 1}, {\"arrows\": \"to\", \"from\": \"the\", \"to\": \"Treaty\", \"weight\": 1}, {\"arrows\": \"to\", \"from\": \"the\", \"to\": \"15th\", \"weight\": 1}, {\"arrows\": \"to\", \"from\": \"the\", \"to\": \"first\", \"weight\": 1}, {\"arrows\": \"to\", \"from\": \"the\", \"to\": \"world\\u0027s\", \"weight\": 1}, {\"arrows\": \"to\", \"from\": \"the\", \"to\": \"Age\", \"weight\": 1}, {\"arrows\": \"to\", \"from\": \"the\", \"to\": \"discovery\", \"weight\": 1}, {\"arrows\": \"to\", \"from\": \"the\", \"to\": \"spice\", \"weight\": 1}, {\"arrows\": \"to\", \"from\": \"the\", \"to\": \"world\", \"weight\": 1}, {\"arrows\": \"to\", \"from\": \"the\", \"to\": \"empire\", \"weight\": 1}, {\"arrows\": \"to\", \"from\": \"the\", \"to\": \"1755\", \"weight\": 1}, {\"arrows\": \"to\", \"from\": \"the\", \"to\": \"country\\u0027s\", \"weight\": 1}, {\"arrows\": \"to\", \"from\": \"the\", \"to\": \"Napoleonic\", \"weight\": 1}, {\"arrows\": \"to\", \"from\": \"the\", \"to\": \"independence\", \"weight\": 1}, {\"arrows\": \"to\", \"from\": \"the\", \"to\": \"1910\", \"weight\": 1}, {\"arrows\": \"to\", \"from\": \"the\", \"to\": \"monarchy,\", \"weight\": 1}, {\"arrows\": \"to\", \"from\": \"the\", \"to\": \"democratic\", \"weight\": 1}, {\"arrows\": \"to\", \"from\": \"the\", \"to\": \"Estado\", \"weight\": 1}, {\"arrows\": \"to\", \"from\": \"the\", \"to\": \"Carnation\", \"weight\": 1}, {\"arrows\": \"to\", \"from\": \"the\", \"to\": \"end\", \"weight\": 1}, {\"arrows\": \"to\", \"from\": \"the\", \"to\": \"longest-lived\", \"weight\": 1}, {\"arrows\": \"to\", \"from\": \"the\", \"to\": \"globe,\", \"weight\": 1}, {\"arrows\": \"to\", \"from\": \"the\", \"to\": \"United\", \"weight\": 1}, {\"arrows\": \"to\", \"from\": \"the\", \"to\": \"European\", \"weight\": 1}, {\"arrows\": \"to\", \"from\": \"the\", \"to\": \"Schengen\", \"weight\": 1}, {\"arrows\": \"to\", \"from\": \"the\", \"to\": \"Council\", \"weight\": 1}, {\"arrows\": \"to\", \"from\": \"the\", \"to\": \"founding\", \"weight\": 1}, {\"arrows\": \"to\", \"from\": \"the\", \"to\": \"eurozone,\", \"weight\": 1}, {\"arrows\": \"to\", \"from\": \"the\", \"to\": \"OECD,\", \"weight\": 1}, {\"arrows\": \"to\", \"from\": \"the\", \"to\": \"Community\", \"weight\": 1}, {\"arrows\": \"to\", \"from\": \"Portuguese\", \"to\": \"Republic\", \"weight\": 1}, {\"arrows\": \"to\", \"from\": \"Portuguese\", \"to\": \"explorers\", \"weight\": 1}, {\"arrows\": \"to\", \"from\": \"Portuguese\", \"to\": \"First\", \"weight\": 1}, {\"arrows\": \"to\", \"from\": \"Portuguese\", \"to\": \"Colonial\", \"weight\": 1}, {\"arrows\": \"to\", \"from\": \"Portuguese\", \"to\": \"speakers,\", \"weight\": 1}, {\"arrows\": \"to\", \"from\": \"Portuguese\", \"to\": \"Language\", \"weight\": 1}, {\"arrows\": \"to\", \"from\": \"Republic\", \"to\": \"(Portuguese:\", \"weight\": 1}, {\"arrows\": \"to\", \"from\": \"Republic\", \"to\": \"was\", \"weight\": 1}, {\"arrows\": \"to\", \"from\": \"Rep\\u00fablica\", \"to\": \"Portuguesa\", \"weight\": 1}, {\"arrows\": \"to\", \"from\": \"Portuguesa\", \"to\": \"[\\u0281\\u025b\\u02c8pu\\u03b2lik\\u0250\", \"weight\": 1}, {\"arrows\": \"to\", \"from\": \"[\\u0281\\u025b\\u02c8pu\\u03b2lik\\u0250\", \"to\": \"pu\\u027etu\\u02c8\\u0263ez\\u0250]),\", \"weight\": 1}, {\"arrows\": \"to\", \"from\": \"pu\\u027etu\\u02c8\\u0263ez\\u0250]),\", \"to\": \"is\", \"weight\": 1}, {\"arrows\": \"to\", \"from\": \"is\", \"to\": \"a\", \"weight\": 1}, {\"arrows\": \"to\", \"from\": \"is\", \"to\": \"the\", \"weight\": 1}, {\"arrows\": \"to\", \"from\": \"is\", \"to\": \"Portuguese.\", \"weight\": 1}, {\"arrows\": \"to\", \"from\": \"a\", \"to\": \"country\", \"weight\": 1}, {\"arrows\": \"to\", \"from\": \"a\", \"to\": \"land\", \"weight\": 1}, {\"arrows\": \"to\", \"from\": \"a\", \"to\": \"great\", \"weight\": 1}, {\"arrows\": \"to\", \"from\": \"a\", \"to\": \"profound\", \"weight\": 1}, {\"arrows\": \"to\", \"from\": \"a\", \"to\": \"legacy\", \"weight\": 1}, {\"arrows\": \"to\", \"from\": \"a\", \"to\": \"developed\", \"weight\": 1}, {\"arrows\": \"to\", \"from\": \"country\", \"to\": \"located\", \"weight\": 1}, {\"arrows\": \"to\", \"from\": \"country\", \"to\": \"to\", \"weight\": 1}, {\"arrows\": \"to\", \"from\": \"country\", \"to\": \"was\", \"weight\": 1}, {\"arrows\": \"to\", \"from\": \"country\", \"to\": \"with\", \"weight\": 1}, {\"arrows\": \"to\", \"from\": \"located\", \"to\": \"on\", \"weight\": 1}, {\"arrows\": \"to\", \"from\": \"on\", \"to\": \"the\", \"weight\": 1}, {\"arrows\": \"to\", \"from\": \"Iberian\", \"to\": \"Peninsula,\", \"weight\": 1}, {\"arrows\": \"to\", \"from\": \"Iberian\", \"to\": \"Peninsula\", \"weight\": 1}, {\"arrows\": \"to\", \"from\": \"Peninsula,\", \"to\": \"in\", \"weight\": 1}, {\"arrows\": \"to\", \"from\": \"in\", \"to\": \"south-western\", \"weight\": 1}, {\"arrows\": \"to\", \"from\": \"in\", \"to\": \"mainland\", \"weight\": 1}, {\"arrows\": \"to\", \"from\": \"in\", \"to\": \"Europe,\", \"weight\": 1}, {\"arrows\": \"to\", \"from\": \"in\", \"to\": \"868,\", \"weight\": 1}, {\"arrows\": \"to\", \"from\": \"in\", \"to\": \"Asia.\", \"weight\": 1}, {\"arrows\": \"to\", \"from\": \"in\", \"to\": \"Portugal\", \"weight\": 1}, {\"arrows\": \"to\", \"from\": \"in\", \"to\": \"history.\\nPortugal\", \"weight\": 1}, {\"arrows\": \"to\", \"from\": \"in\", \"to\": \"moral\", \"weight\": 1}, {\"arrows\": \"to\", \"from\": \"south-western\", \"to\": \"Europe.\", \"weight\": 1}, {\"arrows\": \"to\", \"from\": \"Europe.\", \"to\": \"It\", \"weight\": 1}, {\"arrows\": \"to\", \"from\": \"It\", \"to\": \"is\", \"weight\": 1}, {\"arrows\": \"to\", \"from\": \"It\", \"to\": \"was\", \"weight\": 1}, {\"arrows\": \"to\", \"from\": \"westernmost\", \"to\": \"sovereign\", \"weight\": 1}, {\"arrows\": \"to\", \"from\": \"sovereign\", \"to\": \"state\", \"weight\": 1}, {\"arrows\": \"to\", \"from\": \"state\", \"to\": \"in\", \"weight\": 1}, {\"arrows\": \"to\", \"from\": \"state\", \"to\": \"on\", \"weight\": 1}, {\"arrows\": \"to\", \"from\": \"mainland\", \"to\": \"Europe,\", \"weight\": 1}, {\"arrows\": \"to\", \"from\": \"Europe,\", \"to\": \"bordered\", \"weight\": 1}, {\"arrows\": \"to\", \"from\": \"Europe,\", \"to\": \"its\", \"weight\": 1}, {\"arrows\": \"to\", \"from\": \"bordered\", \"to\": \"to\", \"weight\": 1}, {\"arrows\": \"to\", \"from\": \"to\", \"to\": \"the\", \"weight\": 1}, {\"arrows\": \"to\", \"from\": \"to\", \"to\": \"have\", \"weight\": 1}, {\"arrows\": \"to\", \"from\": \"to\", \"to\": \"as\", \"weight\": 1}, {\"arrows\": \"to\", \"from\": \"to\", \"to\": \"a\", \"weight\": 1}, {\"arrows\": \"to\", \"from\": \"to\", \"to\": \"1834.\\nAfter\", \"weight\": 1}, {\"arrows\": \"to\", \"from\": \"to\", \"to\": \"almost\", \"weight\": 1}, {\"arrows\": \"to\", \"from\": \"to\", \"to\": \"China\", \"weight\": 1}, {\"arrows\": \"to\", \"from\": \"west\", \"to\": \"and\", \"weight\": 1}, {\"arrows\": \"to\", \"from\": \"and\", \"to\": \"south\", \"weight\": 1}, {\"arrows\": \"to\", \"from\": \"and\", \"to\": \"to\", \"weight\": 1}, {\"arrows\": \"to\", \"from\": \"and\", \"to\": \"east\", \"weight\": 1}, {\"arrows\": \"to\", \"from\": \"and\", \"to\": \"Madeira,\", \"weight\": 1}, {\"arrows\": \"to\", \"from\": \"and\", \"to\": \"national\", \"weight\": 1}, {\"arrows\": \"to\", \"from\": \"and\", \"to\": \"largest\", \"weight\": 1}, {\"arrows\": \"to\", \"from\": \"and\", \"to\": \"one\", \"weight\": 1}, {\"arrows\": \"to\", \"from\": \"and\", \"to\": \"fought\", \"weight\": 1}, {\"arrows\": \"to\", \"from\": \"and\", \"to\": \"Celtic\", \"weight\": 1}, {\"arrows\": \"to\", \"from\": \"and\", \"to\": \"ruled\", \"weight\": 1}, {\"arrows\": \"to\", \"from\": \"and\", \"to\": \"Visigothic\", \"weight\": 1}, {\"arrows\": \"to\", \"from\": \"and\", \"to\": \"independence\", \"weight\": 1}, {\"arrows\": \"to\", \"from\": \"and\", \"to\": \"16th\", \"weight\": 1}, {\"arrows\": \"to\", \"from\": \"and\", \"to\": \"commercial\", \"weight\": 1}, {\"arrows\": \"to\", \"from\": \"and\", \"to\": \"military\", \"weight\": 1}, {\"arrows\": \"to\", \"from\": \"and\", \"to\": \"the\", \"weight\": 1}, {\"arrows\": \"to\", \"from\": \"and\", \"to\": \"conservative\", \"weight\": 1}, {\"arrows\": \"to\", \"from\": \"and\", \"to\": \"linguistic\", \"weight\": 1}, {\"arrows\": \"to\", \"from\": \"and\", \"to\": \"many\", \"weight\": 1}, {\"arrows\": \"to\", \"from\": \"and\", \"to\": \"high\", \"weight\": 1}, {\"arrows\": \"to\", \"from\": \"and\", \"to\": \"prosperity.\", \"weight\": 1}, {\"arrows\": \"to\", \"from\": \"south\", \"to\": \"by\", \"weight\": 1}, {\"arrows\": \"to\", \"from\": \"by\", \"to\": \"the\", \"weight\": 1}, {\"arrows\": \"to\", \"from\": \"by\", \"to\": \"Spain,\", \"weight\": 1}, {\"arrows\": \"to\", \"from\": \"by\", \"to\": \"pre-Celtic\", \"weight\": 1}, {\"arrows\": \"to\", \"from\": \"by\", \"to\": \"Phoenicians-Carthaginians,\", \"weight\": 1}, {\"arrows\": \"to\", \"from\": \"Atlantic\", \"to\": \"Ocean\", \"weight\": 1}, {\"arrows\": \"to\", \"from\": \"Atlantic\", \"to\": \"archipelagos\", \"weight\": 1}, {\"arrows\": \"to\", \"from\": \"Ocean\", \"to\": \"and\", \"weight\": 1}, {\"arrows\": \"to\", \"from\": \"north\", \"to\": \"and\", \"weight\": 1}, {\"arrows\": \"to\", \"from\": \"east\", \"to\": \"by\", \"weight\": 1}, {\"arrows\": \"to\", \"from\": \"Spain,\", \"to\": \"the\", \"weight\": 1}, {\"arrows\": \"to\", \"from\": \"sole\", \"to\": \"country\", \"weight\": 1}, {\"arrows\": \"to\", \"from\": \"have\", \"to\": \"a\", \"weight\": 1}, {\"arrows\": \"to\", \"from\": \"land\", \"to\": \"border\", \"weight\": 1}, {\"arrows\": \"to\", \"from\": \"border\", \"to\": \"with\", \"weight\": 1}, {\"arrows\": \"to\", \"from\": \"with\", \"to\": \"Portugal.\", \"weight\": 1}, {\"arrows\": \"to\", \"from\": \"with\", \"to\": \"their\", \"weight\": 1}, {\"arrows\": \"to\", \"from\": \"with\", \"to\": \"the\", \"weight\": 1}, {\"arrows\": \"to\", \"from\": \"with\", \"to\": \"Castile,\", \"weight\": 1}, {\"arrows\": \"to\", \"from\": \"with\", \"to\": \"military\", \"weight\": 1}, {\"arrows\": \"to\", \"from\": \"with\", \"to\": \"a\", \"weight\": 1}, {\"arrows\": \"to\", \"from\": \"with\", \"to\": \"an\", \"weight\": 1}, {\"arrows\": \"to\", \"from\": \"Portugal.\", \"to\": \"Portugal\\u2019s\", \"weight\": 1}, {\"arrows\": \"to\", \"from\": \"Portugal\\u2019s\", \"to\": \"territory\", \"weight\": 1}, {\"arrows\": \"to\", \"from\": \"territory\", \"to\": \"also\", \"weight\": 1}, {\"arrows\": \"to\", \"from\": \"territory\", \"to\": \"having\", \"weight\": 1}, {\"arrows\": \"to\", \"from\": \"territory\", \"to\": \"was\", \"weight\": 1}, {\"arrows\": \"to\", \"from\": \"also\", \"to\": \"includes\", \"weight\": 1}, {\"arrows\": \"to\", \"from\": \"also\", \"to\": \"one\", \"weight\": 1}, {\"arrows\": \"to\", \"from\": \"includes\", \"to\": \"the\", \"weight\": 1}, {\"arrows\": \"to\", \"from\": \"archipelagos\", \"to\": \"of\", \"weight\": 1}, {\"arrows\": \"to\", \"from\": \"of\", \"to\": \"the\", \"weight\": 1}, {\"arrows\": \"to\", \"from\": \"of\", \"to\": \"its\", \"weight\": 1}, {\"arrows\": \"to\", \"from\": \"of\", \"to\": \"Al-Andalus.\", \"weight\": 1}, {\"arrows\": \"to\", \"from\": \"of\", \"to\": \"Portugal\", \"weight\": 1}, {\"arrows\": \"to\", \"from\": \"of\", \"to\": \"S\\u00e3o\", \"weight\": 1}, {\"arrows\": \"to\", \"from\": \"of\", \"to\": \"Ourique\", \"weight\": 1}, {\"arrows\": \"to\", \"from\": \"of\", \"to\": \"Zamora\", \"weight\": 1}, {\"arrows\": \"to\", \"from\": \"of\", \"to\": \"Discovery,\", \"weight\": 1}, {\"arrows\": \"to\", \"from\": \"of\", \"to\": \"what\", \"weight\": 1}, {\"arrows\": \"to\", \"from\": \"of\", \"to\": \"dominion\", \"weight\": 1}, {\"arrows\": \"to\", \"from\": \"of\", \"to\": \"Brazil\", \"weight\": 1}, {\"arrows\": \"to\", \"from\": \"of\", \"to\": \"Macau\", \"weight\": 1}, {\"arrows\": \"to\", \"from\": \"of\", \"to\": \"around\", \"weight\": 1}, {\"arrows\": \"to\", \"from\": \"of\", \"to\": \"Europe\", \"weight\": 1}, {\"arrows\": \"to\", \"from\": \"of\", \"to\": \"NATO,\", \"weight\": 1}, {\"arrows\": \"to\", \"from\": \"of\", \"to\": \"Portuguese\", \"weight\": 1}, {\"arrows\": \"to\", \"from\": \"Azores\", \"to\": \"and\", \"weight\": 1}, {\"arrows\": \"to\", \"from\": \"Madeira,\", \"to\": \"both\", \"weight\": 1}, {\"arrows\": \"to\", \"from\": \"both\", \"to\": \"autonomous\", \"weight\": 1}, {\"arrows\": \"to\", \"from\": \"autonomous\", \"to\": \"regions\", \"weight\": 1}, {\"arrows\": \"to\", \"from\": \"regions\", \"to\": \"with\", \"weight\": 1}, {\"arrows\": \"to\", \"from\": \"their\", \"to\": \"own\", \"weight\": 1}, {\"arrows\": \"to\", \"from\": \"own\", \"to\": \"regional\", \"weight\": 1}, {\"arrows\": \"to\", \"from\": \"regional\", \"to\": \"governments.\", \"weight\": 1}, {\"arrows\": \"to\", \"from\": \"governments.\", \"to\": \"The\", \"weight\": 1}, {\"arrows\": \"to\", \"from\": \"The\", \"to\": \"official\", \"weight\": 1}, {\"arrows\": \"to\", \"from\": \"The\", \"to\": \"Kingdom\", \"weight\": 1}, {\"arrows\": \"to\", \"from\": \"The\", \"to\": \"handover\", \"weight\": 1}, {\"arrows\": \"to\", \"from\": \"official\", \"to\": \"and\", \"weight\": 1}, {\"arrows\": \"to\", \"from\": \"national\", \"to\": \"language\", \"weight\": 1}, {\"arrows\": \"to\", \"from\": \"language\", \"to\": \"is\", \"weight\": 1}, {\"arrows\": \"to\", \"from\": \"Portuguese.\", \"to\": \"Lisbon\", \"weight\": 1}, {\"arrows\": \"to\", \"from\": \"Lisbon\", \"to\": \"is\", \"weight\": 1}, {\"arrows\": \"to\", \"from\": \"Lisbon\", \"to\": \"earthquake,\", \"weight\": 1}, {\"arrows\": \"to\", \"from\": \"capital\", \"to\": \"and\", \"weight\": 1}, {\"arrows\": \"to\", \"from\": \"largest\", \"to\": \"city.\\nPortugal\", \"weight\": 1}, {\"arrows\": \"to\", \"from\": \"city.\\nPortugal\", \"to\": \"is\", \"weight\": 1}, {\"arrows\": \"to\", \"from\": \"oldest\", \"to\": \"nation\", \"weight\": 1}, {\"arrows\": \"to\", \"from\": \"oldest\", \"to\": \"in\", \"weight\": 1}, {\"arrows\": \"to\", \"from\": \"nation\", \"to\": \"state\", \"weight\": 1}, {\"arrows\": \"to\", \"from\": \"Peninsula\", \"to\": \"and\", \"weight\": 1}, {\"arrows\": \"to\", \"from\": \"Peninsula\", \"to\": \"by\", \"weight\": 1}, {\"arrows\": \"to\", \"from\": \"one\", \"to\": \"of\", \"weight\": 1}, {\"arrows\": \"to\", \"from\": \"its\", \"to\": \"territory\", \"weight\": 1}, {\"arrows\": \"to\", \"from\": \"its\", \"to\": \"overseas\", \"weight\": 1}, {\"arrows\": \"to\", \"from\": \"having\", \"to\": \"been\", \"weight\": 1}, {\"arrows\": \"to\", \"from\": \"been\", \"to\": \"continuously\", \"weight\": 1}, {\"arrows\": \"to\", \"from\": \"continuously\", \"to\": \"settled,\", \"weight\": 1}, {\"arrows\": \"to\", \"from\": \"settled,\", \"to\": \"invaded\", \"weight\": 1}, {\"arrows\": \"to\", \"from\": \"invaded\", \"to\": \"and\", \"weight\": 1}, {\"arrows\": \"to\", \"from\": \"fought\", \"to\": \"over\", \"weight\": 1}, {\"arrows\": \"to\", \"from\": \"over\", \"to\": \"since\", \"weight\": 1}, {\"arrows\": \"to\", \"from\": \"over\", \"to\": \"royal\", \"weight\": 1}, {\"arrows\": \"to\", \"from\": \"since\", \"to\": \"prehistoric\", \"weight\": 1}, {\"arrows\": \"to\", \"from\": \"prehistoric\", \"to\": \"times.\", \"weight\": 1}, {\"arrows\": \"to\", \"from\": \"times.\", \"to\": \"It\", \"weight\": 1}, {\"arrows\": \"to\", \"from\": \"was\", \"to\": \"inhabited\", \"weight\": 1}, {\"arrows\": \"to\", \"from\": \"was\", \"to\": \"part\", \"weight\": 1}, {\"arrows\": \"to\", \"from\": \"was\", \"to\": \"established\", \"weight\": 1}, {\"arrows\": \"to\", \"from\": \"was\", \"to\": \"later\", \"weight\": 1}, {\"arrows\": \"to\", \"from\": \"was\", \"to\": \"recognized\", \"weight\": 1}, {\"arrows\": \"to\", \"from\": \"was\", \"to\": \"established,\", \"weight\": 1}, {\"arrows\": \"to\", \"from\": \"was\", \"to\": \"restored\", \"weight\": 1}, {\"arrows\": \"to\", \"from\": \"was\", \"to\": \"granted\", \"weight\": 1}, {\"arrows\": \"to\", \"from\": \"was\", \"to\": \"also\", \"weight\": 1}, {\"arrows\": \"to\", \"from\": \"inhabited\", \"to\": \"by\", \"weight\": 1}, {\"arrows\": \"to\", \"from\": \"pre-Celtic\", \"to\": \"and\", \"weight\": 1}, {\"arrows\": \"to\", \"from\": \"Celtic\", \"to\": \"peoples,\", \"weight\": 1}, {\"arrows\": \"to\", \"from\": \"peoples,\", \"to\": \"visited\", \"weight\": 1}, {\"arrows\": \"to\", \"from\": \"visited\", \"to\": \"by\", \"weight\": 1}, {\"arrows\": \"to\", \"from\": \"Phoenicians-Carthaginians,\", \"to\": \"Ancient\", \"weight\": 1}, {\"arrows\": \"to\", \"from\": \"Ancient\", \"to\": \"Greeks\", \"weight\": 1}, {\"arrows\": \"to\", \"from\": \"Greeks\", \"to\": \"and\", \"weight\": 1}, {\"arrows\": \"to\", \"from\": \"ruled\", \"to\": \"by\", \"weight\": 1}, {\"arrows\": \"to\", \"from\": \"Romans,\", \"to\": \"who\", \"weight\": 1}, {\"arrows\": \"to\", \"from\": \"who\", \"to\": \"were\", \"weight\": 1}, {\"arrows\": \"to\", \"from\": \"were\", \"to\": \"followed\", \"weight\": 1}, {\"arrows\": \"to\", \"from\": \"followed\", \"to\": \"by\", \"weight\": 1}, {\"arrows\": \"to\", \"from\": \"invasions\", \"to\": \"of\", \"weight\": 1}, {\"arrows\": \"to\", \"from\": \"Suebi\", \"to\": \"and\", \"weight\": 1}, {\"arrows\": \"to\", \"from\": \"Visigothic\", \"to\": \"Germanic\", \"weight\": 1}, {\"arrows\": \"to\", \"from\": \"Germanic\", \"to\": \"peoples.\", \"weight\": 1}, {\"arrows\": \"to\", \"from\": \"peoples.\", \"to\": \"After\", \"weight\": 1}, {\"arrows\": \"to\", \"from\": \"After\", \"to\": \"the\", \"weight\": 1}, {\"arrows\": \"to\", \"from\": \"invasion\", \"to\": \"of\", \"weight\": 1}, {\"arrows\": \"to\", \"from\": \"Moors,\", \"to\": \"most\", \"weight\": 1}, {\"arrows\": \"to\", \"from\": \"most\", \"to\": \"of\", \"weight\": 1}, {\"arrows\": \"to\", \"from\": \"part\", \"to\": \"of\", \"weight\": 1}, {\"arrows\": \"to\", \"from\": \"Al-Andalus.\", \"to\": \"Portugal\", \"weight\": 1}, {\"arrows\": \"to\", \"from\": \"as\", \"to\": \"a\", \"weight\": 1}, {\"arrows\": \"to\", \"from\": \"as\", \"to\": \"the\", \"weight\": 1}, {\"arrows\": \"to\", \"from\": \"established\", \"to\": \"during\", \"weight\": 1}, {\"arrows\": \"to\", \"from\": \"established\", \"to\": \"the\", \"weight\": 1}, {\"arrows\": \"to\", \"from\": \"during\", \"to\": \"the\", \"weight\": 1}, {\"arrows\": \"to\", \"from\": \"early\", \"to\": \"Christian\", \"weight\": 1}, {\"arrows\": \"to\", \"from\": \"Christian\", \"to\": \"Reconquista.\", \"weight\": 1}, {\"arrows\": \"to\", \"from\": \"Reconquista.\", \"to\": \"Founded\", \"weight\": 1}, {\"arrows\": \"to\", \"from\": \"Founded\", \"to\": \"in\", \"weight\": 1}, {\"arrows\": \"to\", \"from\": \"868,\", \"to\": \"the\", \"weight\": 1}, {\"arrows\": \"to\", \"from\": \"County\", \"to\": \"of\", \"weight\": 1}, {\"arrows\": \"to\", \"from\": \"gained\", \"to\": \"prominence\", \"weight\": 1}, {\"arrows\": \"to\", \"from\": \"prominence\", \"to\": \"after\", \"weight\": 1}, {\"arrows\": \"to\", \"from\": \"after\", \"to\": \"the\", \"weight\": 1}, {\"arrows\": \"to\", \"from\": \"Battle\", \"to\": \"of\", \"weight\": 1}, {\"arrows\": \"to\", \"from\": \"S\\u00e3o\", \"to\": \"Mamede\", \"weight\": 1}, {\"arrows\": \"to\", \"from\": \"Mamede\", \"to\": \"(1128).\", \"weight\": 1}, {\"arrows\": \"to\", \"from\": \"(1128).\", \"to\": \"The\", \"weight\": 1}, {\"arrows\": \"to\", \"from\": \"Kingdom\", \"to\": \"of\", \"weight\": 1}, {\"arrows\": \"to\", \"from\": \"later\", \"to\": \"proclaimed\", \"weight\": 1}, {\"arrows\": \"to\", \"from\": \"later\", \"to\": \"being\", \"weight\": 1}, {\"arrows\": \"to\", \"from\": \"proclaimed\", \"to\": \"following\", \"weight\": 1}, {\"arrows\": \"to\", \"from\": \"following\", \"to\": \"the\", \"weight\": 1}, {\"arrows\": \"to\", \"from\": \"Ourique\", \"to\": \"(1139),\", \"weight\": 1}, {\"arrows\": \"to\", \"from\": \"(1139),\", \"to\": \"and\", \"weight\": 1}, {\"arrows\": \"to\", \"from\": \"independence\", \"to\": \"from\", \"weight\": 1}, {\"arrows\": \"to\", \"from\": \"independence\", \"to\": \"of\", \"weight\": 1}, {\"arrows\": \"to\", \"from\": \"independence\", \"to\": \"was\", \"weight\": 1}, {\"arrows\": \"to\", \"from\": \"from\", \"to\": \"Le\\u00f3n\", \"weight\": 1}, {\"arrows\": \"to\", \"from\": \"from\", \"to\": \"1828\", \"weight\": 1}, {\"arrows\": \"to\", \"from\": \"Le\\u00f3n\", \"to\": \"was\", \"weight\": 1}, {\"arrows\": \"to\", \"from\": \"recognized\", \"to\": \"by\", \"weight\": 1}, {\"arrows\": \"to\", \"from\": \"Treaty\", \"to\": \"of\", \"weight\": 1}, {\"arrows\": \"to\", \"from\": \"Zamora\", \"to\": \"(1143).In\", \"weight\": 1}, {\"arrows\": \"to\", \"from\": \"(1143).In\", \"to\": \"the\", \"weight\": 1}, {\"arrows\": \"to\", \"from\": \"15th\", \"to\": \"and\", \"weight\": 1}, {\"arrows\": \"to\", \"from\": \"16th\", \"to\": \"centuries,\", \"weight\": 1}, {\"arrows\": \"to\", \"from\": \"centuries,\", \"to\": \"Portugal\", \"weight\": 1}, {\"arrows\": \"to\", \"from\": \"first\", \"to\": \"global\", \"weight\": 1}, {\"arrows\": \"to\", \"from\": \"global\", \"to\": \"maritime\", \"weight\": 1}, {\"arrows\": \"to\", \"from\": \"maritime\", \"to\": \"and\", \"weight\": 1}, {\"arrows\": \"to\", \"from\": \"maritime\", \"to\": \"exploration\", \"weight\": 1}, {\"arrows\": \"to\", \"from\": \"commercial\", \"to\": \"empire,\", \"weight\": 1}, {\"arrows\": \"to\", \"from\": \"empire,\", \"to\": \"becoming\", \"weight\": 1}, {\"arrows\": \"to\", \"from\": \"becoming\", \"to\": \"one\", \"weight\": 1}, {\"arrows\": \"to\", \"from\": \"world\\u0027s\", \"to\": \"major\", \"weight\": 1}, {\"arrows\": \"to\", \"from\": \"major\", \"to\": \"economic,\", \"weight\": 1}, {\"arrows\": \"to\", \"from\": \"economic,\", \"to\": \"political\", \"weight\": 1}, {\"arrows\": \"to\", \"from\": \"political\", \"to\": \"and\", \"weight\": 1}, {\"arrows\": \"to\", \"from\": \"military\", \"to\": \"powers.\", \"weight\": 1}, {\"arrows\": \"to\", \"from\": \"military\", \"to\": \"campaigns\", \"weight\": 1}, {\"arrows\": \"to\", \"from\": \"powers.\", \"to\": \"During\", \"weight\": 1}, {\"arrows\": \"to\", \"from\": \"During\", \"to\": \"this\", \"weight\": 1}, {\"arrows\": \"to\", \"from\": \"this\", \"to\": \"period,\", \"weight\": 1}, {\"arrows\": \"to\", \"from\": \"this\", \"to\": \"time\", \"weight\": 1}, {\"arrows\": \"to\", \"from\": \"period,\", \"to\": \"today\", \"weight\": 1}, {\"arrows\": \"to\", \"from\": \"today\", \"to\": \"referred\", \"weight\": 1}, {\"arrows\": \"to\", \"from\": \"referred\", \"to\": \"to\", \"weight\": 1}, {\"arrows\": \"to\", \"from\": \"Age\", \"to\": \"of\", \"weight\": 1}, {\"arrows\": \"to\", \"from\": \"Discovery,\", \"to\": \"Portuguese\", \"weight\": 1}, {\"arrows\": \"to\", \"from\": \"explorers\", \"to\": \"pioneered\", \"weight\": 1}, {\"arrows\": \"to\", \"from\": \"pioneered\", \"to\": \"maritime\", \"weight\": 1}, {\"arrows\": \"to\", \"from\": \"exploration\", \"to\": \"with\", \"weight\": 1}, {\"arrows\": \"to\", \"from\": \"discovery\", \"to\": \"of\", \"weight\": 1}, {\"arrows\": \"to\", \"from\": \"what\", \"to\": \"would\", \"weight\": 1}, {\"arrows\": \"to\", \"from\": \"what\", \"to\": \"can\", \"weight\": 1}, {\"arrows\": \"to\", \"from\": \"would\", \"to\": \"become\", \"weight\": 1}, {\"arrows\": \"to\", \"from\": \"become\", \"to\": \"Brazil\", \"weight\": 1}, {\"arrows\": \"to\", \"from\": \"Brazil\", \"to\": \"(1500).\", \"weight\": 1}, {\"arrows\": \"to\", \"from\": \"Brazil\", \"to\": \"(1822)\", \"weight\": 1}, {\"arrows\": \"to\", \"from\": \"(1500).\", \"to\": \"During\", \"weight\": 1}, {\"arrows\": \"to\", \"from\": \"time\", \"to\": \"Portugal\", \"weight\": 1}, {\"arrows\": \"to\", \"from\": \"monopolized\", \"to\": \"the\", \"weight\": 1}, {\"arrows\": \"to\", \"from\": \"spice\", \"to\": \"trade,\", \"weight\": 1}, {\"arrows\": \"to\", \"from\": \"trade,\", \"to\": \"divided\", \"weight\": 1}, {\"arrows\": \"to\", \"from\": \"divided\", \"to\": \"the\", \"weight\": 1}, {\"arrows\": \"to\", \"from\": \"world\", \"to\": \"into\", \"weight\": 1}, {\"arrows\": \"to\", \"from\": \"into\", \"to\": \"hemispheres\", \"weight\": 1}, {\"arrows\": \"to\", \"from\": \"hemispheres\", \"to\": \"of\", \"weight\": 1}, {\"arrows\": \"to\", \"from\": \"dominion\", \"to\": \"with\", \"weight\": 1}, {\"arrows\": \"to\", \"from\": \"Castile,\", \"to\": \"and\", \"weight\": 1}, {\"arrows\": \"to\", \"from\": \"empire\", \"to\": \"expanded\", \"weight\": 1}, {\"arrows\": \"to\", \"from\": \"expanded\", \"to\": \"with\", \"weight\": 1}, {\"arrows\": \"to\", \"from\": \"campaigns\", \"to\": \"in\", \"weight\": 1}, {\"arrows\": \"to\", \"from\": \"Asia.\", \"to\": \"However,\", \"weight\": 1}, {\"arrows\": \"to\", \"from\": \"However,\", \"to\": \"events\", \"weight\": 1}, {\"arrows\": \"to\", \"from\": \"events\", \"to\": \"such\", \"weight\": 1}, {\"arrows\": \"to\", \"from\": \"such\", \"to\": \"as\", \"weight\": 1}, {\"arrows\": \"to\", \"from\": \"1755\", \"to\": \"Lisbon\", \"weight\": 1}, {\"arrows\": \"to\", \"from\": \"earthquake,\", \"to\": \"the\", \"weight\": 1}, {\"arrows\": \"to\", \"from\": \"country\\u0027s\", \"to\": \"occupation\", \"weight\": 1}, {\"arrows\": \"to\", \"from\": \"occupation\", \"to\": \"during\", \"weight\": 1}, {\"arrows\": \"to\", \"from\": \"Napoleonic\", \"to\": \"Wars,\", \"weight\": 1}, {\"arrows\": \"to\", \"from\": \"Wars,\", \"to\": \"and\", \"weight\": 1}, {\"arrows\": \"to\", \"from\": \"(1822)\", \"to\": \"erased\", \"weight\": 1}, {\"arrows\": \"to\", \"from\": \"erased\", \"to\": \"to\", \"weight\": 1}, {\"arrows\": \"to\", \"from\": \"great\", \"to\": \"extent\", \"weight\": 1}, {\"arrows\": \"to\", \"from\": \"extent\", \"to\": \"Portugal\\u0027s\", \"weight\": 1}, {\"arrows\": \"to\", \"from\": \"Portugal\\u0027s\", \"to\": \"prior\", \"weight\": 1}, {\"arrows\": \"to\", \"from\": \"prior\", \"to\": \"opulence.\", \"weight\": 1}, {\"arrows\": \"to\", \"from\": \"opulence.\", \"to\": \"A\", \"weight\": 1}, {\"arrows\": \"to\", \"from\": \"A\", \"to\": \"civil\", \"weight\": 1}, {\"arrows\": \"to\", \"from\": \"A\", \"to\": \"member\", \"weight\": 1}, {\"arrows\": \"to\", \"from\": \"civil\", \"to\": \"war\", \"weight\": 1}, {\"arrows\": \"to\", \"from\": \"war\", \"to\": \"between\", \"weight\": 1}, {\"arrows\": \"to\", \"from\": \"between\", \"to\": \"liberal\", \"weight\": 1}, {\"arrows\": \"to\", \"from\": \"liberal\", \"to\": \"constitutionalists\", \"weight\": 1}, {\"arrows\": \"to\", \"from\": \"constitutionalists\", \"to\": \"and\", \"weight\": 1}, {\"arrows\": \"to\", \"from\": \"conservative\", \"to\": \"absolutists\", \"weight\": 1}, {\"arrows\": \"to\", \"from\": \"absolutists\", \"to\": \"in\", \"weight\": 1}, {\"arrows\": \"to\", \"from\": \"royal\", \"to\": \"succession\", \"weight\": 1}, {\"arrows\": \"to\", \"from\": \"succession\", \"to\": \"lasted\", \"weight\": 1}, {\"arrows\": \"to\", \"from\": \"lasted\", \"to\": \"from\", \"weight\": 1}, {\"arrows\": \"to\", \"from\": \"1828\", \"to\": \"to\", \"weight\": 1}, {\"arrows\": \"to\", \"from\": \"1834.\\nAfter\", \"to\": \"the\", \"weight\": 1}, {\"arrows\": \"to\", \"from\": \"1910\", \"to\": \"revolution\", \"weight\": 1}, {\"arrows\": \"to\", \"from\": \"revolution\", \"to\": \"deposed\", \"weight\": 1}, {\"arrows\": \"to\", \"from\": \"deposed\", \"to\": \"the\", \"weight\": 1}, {\"arrows\": \"to\", \"from\": \"monarchy,\", \"to\": \"the\", \"weight\": 1}, {\"arrows\": \"to\", \"from\": \"democratic\", \"to\": \"but\", \"weight\": 1}, {\"arrows\": \"to\", \"from\": \"but\", \"to\": \"unstable\", \"weight\": 1}, {\"arrows\": \"to\", \"from\": \"unstable\", \"to\": \"Portuguese\", \"weight\": 1}, {\"arrows\": \"to\", \"from\": \"First\", \"to\": \"Republic\", \"weight\": 1}, {\"arrows\": \"to\", \"from\": \"established,\", \"to\": \"later\", \"weight\": 1}, {\"arrows\": \"to\", \"from\": \"being\", \"to\": \"superseded\", \"weight\": 1}, {\"arrows\": \"to\", \"from\": \"superseded\", \"to\": \"by\", \"weight\": 1}, {\"arrows\": \"to\", \"from\": \"Estado\", \"to\": \"Novo\", \"weight\": 1}, {\"arrows\": \"to\", \"from\": \"Novo\", \"to\": \"authoritarian\", \"weight\": 1}, {\"arrows\": \"to\", \"from\": \"authoritarian\", \"to\": \"regime.\", \"weight\": 1}, {\"arrows\": \"to\", \"from\": \"regime.\", \"to\": \"Democracy\", \"weight\": 1}, {\"arrows\": \"to\", \"from\": \"Democracy\", \"to\": \"was\", \"weight\": 1}, {\"arrows\": \"to\", \"from\": \"restored\", \"to\": \"after\", \"weight\": 1}, {\"arrows\": \"to\", \"from\": \"Carnation\", \"to\": \"Revolution\", \"weight\": 1}, {\"arrows\": \"to\", \"from\": \"Revolution\", \"to\": \"(1974),\", \"weight\": 1}, {\"arrows\": \"to\", \"from\": \"(1974),\", \"to\": \"ending\", \"weight\": 1}, {\"arrows\": \"to\", \"from\": \"ending\", \"to\": \"the\", \"weight\": 1}, {\"arrows\": \"to\", \"from\": \"Colonial\", \"to\": \"War.\", \"weight\": 1}, {\"arrows\": \"to\", \"from\": \"War.\", \"to\": \"Shortly\", \"weight\": 1}, {\"arrows\": \"to\", \"from\": \"Shortly\", \"to\": \"after,\", \"weight\": 1}, {\"arrows\": \"to\", \"from\": \"after,\", \"to\": \"independence\", \"weight\": 1}, {\"arrows\": \"to\", \"from\": \"granted\", \"to\": \"to\", \"weight\": 1}, {\"arrows\": \"to\", \"from\": \"almost\", \"to\": \"all\", \"weight\": 1}, {\"arrows\": \"to\", \"from\": \"all\", \"to\": \"its\", \"weight\": 1}, {\"arrows\": \"to\", \"from\": \"overseas\", \"to\": \"territories.\", \"weight\": 1}, {\"arrows\": \"to\", \"from\": \"territories.\", \"to\": \"The\", \"weight\": 1}, {\"arrows\": \"to\", \"from\": \"handover\", \"to\": \"of\", \"weight\": 1}, {\"arrows\": \"to\", \"from\": \"Macau\", \"to\": \"to\", \"weight\": 1}, {\"arrows\": \"to\", \"from\": \"China\", \"to\": \"(1999)\", \"weight\": 1}, {\"arrows\": \"to\", \"from\": \"(1999)\", \"to\": \"marked\", \"weight\": 1}, {\"arrows\": \"to\", \"from\": \"marked\", \"to\": \"the\", \"weight\": 1}, {\"arrows\": \"to\", \"from\": \"end\", \"to\": \"of\", \"weight\": 1}, {\"arrows\": \"to\", \"from\": \"can\", \"to\": \"be\", \"weight\": 1}, {\"arrows\": \"to\", \"from\": \"be\", \"to\": \"considered\", \"weight\": 1}, {\"arrows\": \"to\", \"from\": \"considered\", \"to\": \"one\", \"weight\": 1}, {\"arrows\": \"to\", \"from\": \"longest-lived\", \"to\": \"colonial\", \"weight\": 1}, {\"arrows\": \"to\", \"from\": \"colonial\", \"to\": \"empires\", \"weight\": 1}, {\"arrows\": \"to\", \"from\": \"empires\", \"to\": \"in\", \"weight\": 1}, {\"arrows\": \"to\", \"from\": \"history.\\nPortugal\", \"to\": \"has\", \"weight\": 1}, {\"arrows\": \"to\", \"from\": \"has\", \"to\": \"left\", \"weight\": 1}, {\"arrows\": \"to\", \"from\": \"left\", \"to\": \"a\", \"weight\": 1}, {\"arrows\": \"to\", \"from\": \"profound\", \"to\": \"cultural,\", \"weight\": 1}, {\"arrows\": \"to\", \"from\": \"cultural,\", \"to\": \"architectural\", \"weight\": 1}, {\"arrows\": \"to\", \"from\": \"architectural\", \"to\": \"and\", \"weight\": 1}, {\"arrows\": \"to\", \"from\": \"linguistic\", \"to\": \"influence\", \"weight\": 1}, {\"arrows\": \"to\", \"from\": \"influence\", \"to\": \"across\", \"weight\": 1}, {\"arrows\": \"to\", \"from\": \"across\", \"to\": \"the\", \"weight\": 1}, {\"arrows\": \"to\", \"from\": \"globe,\", \"to\": \"with\", \"weight\": 1}, {\"arrows\": \"to\", \"from\": \"legacy\", \"to\": \"of\", \"weight\": 1}, {\"arrows\": \"to\", \"from\": \"around\", \"to\": \"250\", \"weight\": 1}, {\"arrows\": \"to\", \"from\": \"250\", \"to\": \"million\", \"weight\": 1}, {\"arrows\": \"to\", \"from\": \"million\", \"to\": \"Portuguese\", \"weight\": 1}, {\"arrows\": \"to\", \"from\": \"speakers,\", \"to\": \"and\", \"weight\": 1}, {\"arrows\": \"to\", \"from\": \"many\", \"to\": \"Portuguese-based\", \"weight\": 1}, {\"arrows\": \"to\", \"from\": \"Portuguese-based\", \"to\": \"creoles.\", \"weight\": 1}, {\"arrows\": \"to\", \"from\": \"creoles.\", \"to\": \"It\", \"weight\": 1}, {\"arrows\": \"to\", \"from\": \"developed\", \"to\": \"country\", \"weight\": 1}, {\"arrows\": \"to\", \"from\": \"an\", \"to\": \"advanced\", \"weight\": 1}, {\"arrows\": \"to\", \"from\": \"advanced\", \"to\": \"economy\", \"weight\": 1}, {\"arrows\": \"to\", \"from\": \"economy\", \"to\": \"and\", \"weight\": 1}, {\"arrows\": \"to\", \"from\": \"high\", \"to\": \"living\", \"weight\": 1}, {\"arrows\": \"to\", \"from\": \"living\", \"to\": \"standards.\", \"weight\": 1}, {\"arrows\": \"to\", \"from\": \"standards.\", \"to\": \"Additionally,\", \"weight\": 1}, {\"arrows\": \"to\", \"from\": \"Additionally,\", \"to\": \"it\", \"weight\": 1}, {\"arrows\": \"to\", \"from\": \"it\", \"to\": \"ranks\", \"weight\": 1}, {\"arrows\": \"to\", \"from\": \"ranks\", \"to\": \"highly\", \"weight\": 1}, {\"arrows\": \"to\", \"from\": \"highly\", \"to\": \"in\", \"weight\": 1}, {\"arrows\": \"to\", \"from\": \"moral\", \"to\": \"freedom,\", \"weight\": 1}, {\"arrows\": \"to\", \"from\": \"freedom,\", \"to\": \"peacefulness,\", \"weight\": 1}, {\"arrows\": \"to\", \"from\": \"freedom,\", \"to\": \"stability,\", \"weight\": 1}, {\"arrows\": \"to\", \"from\": \"peacefulness,\", \"to\": \"democracy,\", \"weight\": 1}, {\"arrows\": \"to\", \"from\": \"democracy,\", \"to\": \"press\", \"weight\": 1}, {\"arrows\": \"to\", \"from\": \"press\", \"to\": \"freedom,\", \"weight\": 1}, {\"arrows\": \"to\", \"from\": \"stability,\", \"to\": \"social\", \"weight\": 1}, {\"arrows\": \"to\", \"from\": \"social\", \"to\": \"progress,\", \"weight\": 1}, {\"arrows\": \"to\", \"from\": \"progress,\", \"to\": \"and\", \"weight\": 1}, {\"arrows\": \"to\", \"from\": \"prosperity.\", \"to\": \"A\", \"weight\": 1}, {\"arrows\": \"to\", \"from\": \"member\", \"to\": \"of\", \"weight\": 1}, {\"arrows\": \"to\", \"from\": \"United\", \"to\": \"Nations,\", \"weight\": 1}, {\"arrows\": \"to\", \"from\": \"Nations,\", \"to\": \"the\", \"weight\": 1}, {\"arrows\": \"to\", \"from\": \"European\", \"to\": \"Union,\", \"weight\": 1}, {\"arrows\": \"to\", \"from\": \"Union,\", \"to\": \"the\", \"weight\": 1}, {\"arrows\": \"to\", \"from\": \"Schengen\", \"to\": \"Area\", \"weight\": 1}, {\"arrows\": \"to\", \"from\": \"Area\", \"to\": \"and\", \"weight\": 1}, {\"arrows\": \"to\", \"from\": \"Council\", \"to\": \"of\", \"weight\": 1}, {\"arrows\": \"to\", \"from\": \"Europe\", \"to\": \"(CoE),\", \"weight\": 1}, {\"arrows\": \"to\", \"from\": \"(CoE),\", \"to\": \"Portugal\", \"weight\": 1}, {\"arrows\": \"to\", \"from\": \"founding\", \"to\": \"members\", \"weight\": 1}, {\"arrows\": \"to\", \"from\": \"members\", \"to\": \"of\", \"weight\": 1}, {\"arrows\": \"to\", \"from\": \"NATO,\", \"to\": \"the\", \"weight\": 1}, {\"arrows\": \"to\", \"from\": \"eurozone,\", \"to\": \"the\", \"weight\": 1}, {\"arrows\": \"to\", \"from\": \"OECD,\", \"to\": \"and\", \"weight\": 1}, {\"arrows\": \"to\", \"from\": \"Community\", \"to\": \"of\", \"weight\": 1}, {\"arrows\": \"to\", \"from\": \"Language\", \"to\": \"Countries.\", \"weight\": 1}]);\n",
              "\n",
              "        // adding nodes and edges to the graph\n",
              "        data = {nodes: nodes, edges: edges};\n",
              "\n",
              "        var options = {\n",
              "    \"configure\": {\n",
              "        \"enabled\": false\n",
              "    },\n",
              "    \"edges\": {\n",
              "        \"color\": {\n",
              "            \"inherit\": true\n",
              "        },\n",
              "        \"smooth\": {\n",
              "            \"enabled\": false,\n",
              "            \"type\": \"continuous\"\n",
              "        }\n",
              "    },\n",
              "    \"interaction\": {\n",
              "        \"dragNodes\": true,\n",
              "        \"hideEdgesOnDrag\": false,\n",
              "        \"hideNodesOnDrag\": false\n",
              "    },\n",
              "    \"physics\": {\n",
              "        \"enabled\": true,\n",
              "        \"stabilization\": {\n",
              "            \"enabled\": true,\n",
              "            \"fit\": true,\n",
              "            \"iterations\": 1000,\n",
              "            \"onlyDynamicEdges\": false,\n",
              "            \"updateInterval\": 50\n",
              "        }\n",
              "    }\n",
              "};\n",
              "        \n",
              "        \n",
              "\n",
              "        \n",
              "\n",
              "        network = new vis.Network(container, data, options);\n",
              "\t \n",
              "        \n",
              "\n",
              "\n",
              "        \n",
              "        network.on(\"stabilizationProgress\", function(params) {\n",
              "      \t\tdocument.getElementById('loadingBar').removeAttribute(\"style\");\n",
              "\t        var maxWidth = 496;\n",
              "\t        var minWidth = 20;\n",
              "\t        var widthFactor = params.iterations/params.total;\n",
              "\t        var width = Math.max(minWidth,maxWidth * widthFactor);\n",
              "\n",
              "\t        document.getElementById('bar').style.width = width + 'px';\n",
              "\t        document.getElementById('text').innerHTML = Math.round(widthFactor*100) + '%';\n",
              "\t    });\n",
              "\t    network.once(\"stabilizationIterationsDone\", function() {\n",
              "\t        document.getElementById('text').innerHTML = '100%';\n",
              "\t        document.getElementById('bar').style.width = '496px';\n",
              "\t        document.getElementById('loadingBar').style.opacity = 0;\n",
              "\t        // really clean the dom element\n",
              "\t        setTimeout(function () {document.getElementById('loadingBar').style.display = 'none';}, 500);\n",
              "\t    });\n",
              "        \n",
              "\n",
              "        return network;\n",
              "\n",
              "    }\n",
              "\n",
              "    drawGraph();\n",
              "\n",
              "</script>\n",
              "</body>\n",
              "</html>"
            ],
            "text/plain": [
              "<IPython.core.display.HTML object>"
            ]
          },
          "metadata": {
            "tags": []
          },
          "execution_count": 4
        }
      ]
    },
    {
      "cell_type": "code",
      "metadata": {
        "id": "lfAu0TOtdx5y",
        "colab": {
          "base_uri": "https://localhost:8080/"
        },
        "outputId": "d09540fd-e225-421a-de90-6666b2716e84"
      },
      "source": [
        "queryWiki(\"portugal\")"
      ],
      "execution_count": 5,
      "outputs": [
        {
          "output_type": "stream",
          "text": [
            "[\"Portugal (Portuguese: [puɾtuˈɣaɫ]), officially the Portuguese Republic (Portuguese: República Portuguesa [ʁɛˈpuβlikɐ puɾtuˈɣezɐ]), is a country located on the Iberian Peninsula, in south-western Europe. It is the westernmost sovereign state in mainland Europe, bordered to the west and south by the Atlantic Ocean and to the north and east by Spain, the sole country to have a land border with Portugal. Portugal’s territory also includes the Atlantic archipelagos of the Azores and Madeira, both autonomous regions with their own regional governments. The official and national language is Portuguese. Lisbon is the capital and largest city.\\nPortugal is the oldest nation state on the Iberian Peninsula and one of the oldest in Europe, its territory having been continuously settled, invaded and fought over since prehistoric times. It was inhabited by pre-Celtic and Celtic peoples, visited by Phoenicians-Carthaginians, Ancient Greeks and ruled by the Romans, who were followed by the invasions of the Suebi and Visigothic Germanic peoples. After the invasion of the Iberian Peninsula by the Moors, most of its territory was part of Al-Andalus. Portugal as a country was established during the early Christian Reconquista. Founded in 868, the County of Portugal gained prominence after the Battle of São Mamede (1128). The Kingdom of Portugal was later proclaimed following the Battle of Ourique (1139), and independence from León was recognized by the Treaty of Zamora (1143).In the 15th and 16th centuries, Portugal established the first global maritime and commercial empire, becoming one of the world's major economic, political and military powers. During this period, today referred to as the Age of Discovery, Portuguese explorers pioneered maritime exploration with the discovery of what would become Brazil (1500). During this time Portugal monopolized the spice trade, divided the world into hemispheres of dominion with Castile, and the empire expanded with military campaigns in Asia. However, events such as the 1755 Lisbon earthquake, the country's occupation during the Napoleonic Wars, and the independence of Brazil (1822) erased to a great extent Portugal's prior opulence. A civil war between liberal constitutionalists and conservative absolutists in Portugal over royal succession lasted from 1828 to 1834.\\nAfter the 1910 revolution deposed the monarchy, the democratic but unstable Portuguese First Republic was established, later being superseded by the Estado Novo authoritarian regime. Democracy was restored after the Carnation Revolution (1974), ending the Portuguese Colonial War. Shortly after, independence was granted to almost all its overseas territories. The handover of Macau to China (1999) marked the end of what can be considered one of the longest-lived colonial empires in history.\\nPortugal has left a profound cultural, architectural and linguistic influence across the globe, with a legacy of around 250 million Portuguese speakers, and many Portuguese-based creoles. It is a developed country with an advanced economy and high living standards. Additionally, it ranks highly in moral freedom, peacefulness, democracy, press freedom, stability, social progress, and prosperity. A member of the United Nations, the European Union, the Schengen Area and the Council of Europe (CoE), Portugal was also one of the founding members of NATO, the eurozone, the OECD, and the Community of Portuguese Language Countries.\"]\n"
          ],
          "name": "stdout"
        },
        {
          "output_type": "execute_result",
          "data": {
            "text/plain": [
              "[\"Portugal (Portuguese: [puɾtuˈɣaɫ]), officially the Portuguese Republic (Portuguese: República Portuguesa [ʁɛˈpuβlikɐ puɾtuˈɣezɐ]), is a country located on the Iberian Peninsula, in south-western Europe. It is the westernmost sovereign state in mainland Europe, bordered to the west and south by the Atlantic Ocean and to the north and east by Spain, the sole country to have a land border with Portugal. Portugal’s territory also includes the Atlantic archipelagos of the Azores and Madeira, both autonomous regions with their own regional governments. The official and national language is Portuguese. Lisbon is the capital and largest city.\\nPortugal is the oldest nation state on the Iberian Peninsula and one of the oldest in Europe, its territory having been continuously settled, invaded and fought over since prehistoric times. It was inhabited by pre-Celtic and Celtic peoples, visited by Phoenicians-Carthaginians, Ancient Greeks and ruled by the Romans, who were followed by the invasions of the Suebi and Visigothic Germanic peoples. After the invasion of the Iberian Peninsula by the Moors, most of its territory was part of Al-Andalus. Portugal as a country was established during the early Christian Reconquista. Founded in 868, the County of Portugal gained prominence after the Battle of São Mamede (1128). The Kingdom of Portugal was later proclaimed following the Battle of Ourique (1139), and independence from León was recognized by the Treaty of Zamora (1143).In the 15th and 16th centuries, Portugal established the first global maritime and commercial empire, becoming one of the world's major economic, political and military powers. During this period, today referred to as the Age of Discovery, Portuguese explorers pioneered maritime exploration with the discovery of what would become Brazil (1500). During this time Portugal monopolized the spice trade, divided the world into hemispheres of dominion with Castile, and the empire expanded with military campaigns in Asia. However, events such as the 1755 Lisbon earthquake, the country's occupation during the Napoleonic Wars, and the independence of Brazil (1822) erased to a great extent Portugal's prior opulence. A civil war between liberal constitutionalists and conservative absolutists in Portugal over royal succession lasted from 1828 to 1834.\\nAfter the 1910 revolution deposed the monarchy, the democratic but unstable Portuguese First Republic was established, later being superseded by the Estado Novo authoritarian regime. Democracy was restored after the Carnation Revolution (1974), ending the Portuguese Colonial War. Shortly after, independence was granted to almost all its overseas territories. The handover of Macau to China (1999) marked the end of what can be considered one of the longest-lived colonial empires in history.\\nPortugal has left a profound cultural, architectural and linguistic influence across the globe, with a legacy of around 250 million Portuguese speakers, and many Portuguese-based creoles. It is a developed country with an advanced economy and high living standards. Additionally, it ranks highly in moral freedom, peacefulness, democracy, press freedom, stability, social progress, and prosperity. A member of the United Nations, the European Union, the Schengen Area and the Council of Europe (CoE), Portugal was also one of the founding members of NATO, the eurozone, the OECD, and the Community of Portuguese Language Countries.\"]"
            ]
          },
          "metadata": {
            "tags": []
          },
          "execution_count": 5
        }
      ]
    },
    {
      "cell_type": "markdown",
      "metadata": {
        "id": "_sYHeGDiEdkQ"
      },
      "source": [
        "### Additional resources\n",
        "- Website for stanford dataset for question answering: https://rajpurkar.github.io/SQuAD-explorer/\n",
        "\n",
        "\n",
        "- Teaching machines to think:  https://www.ijcai.org/Proceedings/2018/0632.pdf"
      ]
    }
  ]
}